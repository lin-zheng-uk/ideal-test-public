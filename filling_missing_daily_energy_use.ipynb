{
 "cells": [
  {
   "cell_type": "code",
   "execution_count": 202,
   "metadata": {},
   "outputs": [],
   "source": [
    "import pandas as pd\n",
    "import numpy as np\n",
    "import matplotlib.pyplot as plt\n",
    "import seaborn as sns"
   ]
  },
  {
   "cell_type": "markdown",
   "metadata": {},
   "source": [
    "# Data processing with average daily gas and electricity"
   ]
  },
  {
   "cell_type": "markdown",
   "metadata": {},
   "source": [
    "- Introduction\n",
    "\n",
    "(1) Reviewing the raw dataset\n",
    "\n",
    "- Load \"raw dataset\", this is based on Eoghan's notebook \"household_energy_demand_preprocessing.ipynb\". This dataset contains each day's average hourly gas and electricity usage. \n",
    "\n",
    "- Analyze this average hourly data against the entire dataset and also by each month. Compare these results with a benchmark. The analysis shows that while electricity usage is within expected limits, gas usage is unusually high and exceeds the benchmark.\n",
    "\n",
    "(2) Addressing Gas Usage Issues\n",
    "\n",
    "- Identify and deal with outliers in gas usage.\n",
    "\n",
    "- Detect and resolve issues with zero and missing (NaN) values in gas usage\n",
    "\n",
    "- After these corrections, we get a reasonable dataset that contains both gas and electricity data from \"raw dataset\". Name this dataset \"original\". save it as \"daily_energy_use_after_processing_outliers\"\n",
    "\n",
    "\n",
    "\n",
    "\n"
   ]
  },
  {
   "cell_type": "markdown",
   "metadata": {},
   "source": [
    "# (1) Reviewing the Raw Dataset"
   ]
  },
  {
   "cell_type": "code",
   "execution_count": 203,
   "metadata": {},
   "outputs": [
    {
     "data": {
      "text/html": [
       "<div>\n",
       "<style scoped>\n",
       "    .dataframe tbody tr th:only-of-type {\n",
       "        vertical-align: middle;\n",
       "    }\n",
       "\n",
       "    .dataframe tbody tr th {\n",
       "        vertical-align: top;\n",
       "    }\n",
       "\n",
       "    .dataframe thead th {\n",
       "        text-align: right;\n",
       "    }\n",
       "</style>\n",
       "<table border=\"1\" class=\"dataframe\">\n",
       "  <thead>\n",
       "    <tr style=\"text-align: right;\">\n",
       "      <th></th>\n",
       "      <th>household_id</th>\n",
       "      <th>datetime</th>\n",
       "      <th>maxtemp</th>\n",
       "      <th>mintemp</th>\n",
       "      <th>conditions</th>\n",
       "      <th>day_of_week</th>\n",
       "      <th>is_weekend</th>\n",
       "      <th>is_bank_holiday</th>\n",
       "      <th>mean_rounded_gas_pulse</th>\n",
       "      <th>mean_rounded_electric_combined</th>\n",
       "    </tr>\n",
       "  </thead>\n",
       "  <tbody>\n",
       "    <tr>\n",
       "      <th>0</th>\n",
       "      <td>100</td>\n",
       "      <td>2017-03-07</td>\n",
       "      <td>10.0</td>\n",
       "      <td>4.0</td>\n",
       "      <td>Chance of Rain</td>\n",
       "      <td>1.0</td>\n",
       "      <td>False</td>\n",
       "      <td>False</td>\n",
       "      <td>5277.0</td>\n",
       "      <td>343.0</td>\n",
       "    </tr>\n",
       "    <tr>\n",
       "      <th>1</th>\n",
       "      <td>100</td>\n",
       "      <td>2017-03-08</td>\n",
       "      <td>11.0</td>\n",
       "      <td>5.0</td>\n",
       "      <td>Chance of Rain</td>\n",
       "      <td>2.0</td>\n",
       "      <td>False</td>\n",
       "      <td>False</td>\n",
       "      <td>6832.0</td>\n",
       "      <td>253.0</td>\n",
       "    </tr>\n",
       "    <tr>\n",
       "      <th>2</th>\n",
       "      <td>100</td>\n",
       "      <td>2017-03-09</td>\n",
       "      <td>11.0</td>\n",
       "      <td>3.0</td>\n",
       "      <td>Chance of Rain</td>\n",
       "      <td>3.0</td>\n",
       "      <td>False</td>\n",
       "      <td>False</td>\n",
       "      <td>1283.0</td>\n",
       "      <td>203.0</td>\n",
       "    </tr>\n",
       "    <tr>\n",
       "      <th>3</th>\n",
       "      <td>100</td>\n",
       "      <td>2017-03-10</td>\n",
       "      <td>10.0</td>\n",
       "      <td>7.0</td>\n",
       "      <td>Overcast</td>\n",
       "      <td>4.0</td>\n",
       "      <td>False</td>\n",
       "      <td>False</td>\n",
       "      <td>4168.0</td>\n",
       "      <td>222.0</td>\n",
       "    </tr>\n",
       "    <tr>\n",
       "      <th>4</th>\n",
       "      <td>100</td>\n",
       "      <td>2017-03-11</td>\n",
       "      <td>13.0</td>\n",
       "      <td>6.0</td>\n",
       "      <td>Chance of Rain</td>\n",
       "      <td>5.0</td>\n",
       "      <td>True</td>\n",
       "      <td>False</td>\n",
       "      <td>1264.0</td>\n",
       "      <td>243.0</td>\n",
       "    </tr>\n",
       "  </tbody>\n",
       "</table>\n",
       "</div>"
      ],
      "text/plain": [
       "   household_id    datetime  maxtemp  mintemp      conditions  day_of_week  \\\n",
       "0           100  2017-03-07     10.0      4.0  Chance of Rain          1.0   \n",
       "1           100  2017-03-08     11.0      5.0  Chance of Rain          2.0   \n",
       "2           100  2017-03-09     11.0      3.0  Chance of Rain          3.0   \n",
       "3           100  2017-03-10     10.0      7.0        Overcast          4.0   \n",
       "4           100  2017-03-11     13.0      6.0  Chance of Rain          5.0   \n",
       "\n",
       "  is_weekend is_bank_holiday  mean_rounded_gas_pulse  \\\n",
       "0      False           False                  5277.0   \n",
       "1      False           False                  6832.0   \n",
       "2      False           False                  1283.0   \n",
       "3      False           False                  4168.0   \n",
       "4       True           False                  1264.0   \n",
       "\n",
       "   mean_rounded_electric_combined  \n",
       "0                           343.0  \n",
       "1                           253.0  \n",
       "2                           203.0  \n",
       "3                           222.0  \n",
       "4                           243.0  "
      ]
     },
     "execution_count": 203,
     "metadata": {},
     "output_type": "execute_result"
    }
   ],
   "source": [
    "# load raw dataset \"daily_demand_and_weather.csv\", this dataset is dervied from Eoghan's notebook \"household_energy_demand_preprocessing.ipynb\".\n",
    "# this is average hourly energy use in each day of each household, the unit is watt-hour\n",
    "\n",
    "energy_use = pd.read_csv('../data/daily_demand_and_weather.csv') \n",
    "energy_use.head()\n"
   ]
  },
  {
   "cell_type": "code",
   "execution_count": 204,
   "metadata": {},
   "outputs": [
    {
     "name": "stdout",
     "output_type": "stream",
     "text": [
      "<class 'pandas.core.frame.DataFrame'>\n",
      "RangeIndex: 71606 entries, 0 to 71605\n",
      "Data columns (total 12 columns):\n",
      " #   Column                          Non-Null Count  Dtype         \n",
      "---  ------                          --------------  -----         \n",
      " 0   household_id                    71606 non-null  int64         \n",
      " 1   datetime                        71606 non-null  datetime64[ns]\n",
      " 2   maxtemp                         59439 non-null  float64       \n",
      " 3   mintemp                         59439 non-null  float64       \n",
      " 4   conditions                      59439 non-null  object        \n",
      " 5   day_of_week                     59439 non-null  float64       \n",
      " 6   is_weekend                      59439 non-null  object        \n",
      " 7   is_bank_holiday                 59439 non-null  object        \n",
      " 8   mean_rounded_gas_pulse          59841 non-null  float64       \n",
      " 9   mean_rounded_electric_combined  66661 non-null  float64       \n",
      " 10  year                            71606 non-null  int32         \n",
      " 11  month                           71606 non-null  int32         \n",
      "dtypes: datetime64[ns](1), float64(5), int32(2), int64(1), object(3)\n",
      "memory usage: 6.0+ MB\n"
     ]
    }
   ],
   "source": [
    "# generate some columns related to time for furthur use\n",
    "energy_use['datetime'] = pd.to_datetime(energy_use['datetime'])\n",
    "energy_use['year'] = pd.to_datetime(energy_use['datetime']).dt.year\n",
    "energy_use['month'] = pd.to_datetime(energy_use['datetime']).dt.month\n",
    "energy_use.info()"
   ]
  },
  {
   "cell_type": "code",
   "execution_count": 205,
   "metadata": {},
   "outputs": [
    {
     "data": {
      "text/html": [
       "<div>\n",
       "<style scoped>\n",
       "    .dataframe tbody tr th:only-of-type {\n",
       "        vertical-align: middle;\n",
       "    }\n",
       "\n",
       "    .dataframe tbody tr th {\n",
       "        vertical-align: top;\n",
       "    }\n",
       "\n",
       "    .dataframe thead th {\n",
       "        text-align: right;\n",
       "    }\n",
       "</style>\n",
       "<table border=\"1\" class=\"dataframe\">\n",
       "  <thead>\n",
       "    <tr style=\"text-align: right;\">\n",
       "      <th></th>\n",
       "      <th>mean_rounded_gas_pulse</th>\n",
       "      <th>mean_rounded_electric_combined</th>\n",
       "    </tr>\n",
       "  </thead>\n",
       "  <tbody>\n",
       "    <tr>\n",
       "      <th>count</th>\n",
       "      <td>5.984100e+04</td>\n",
       "      <td>66661.000000</td>\n",
       "    </tr>\n",
       "    <tr>\n",
       "      <th>mean</th>\n",
       "      <td>5.129364e+03</td>\n",
       "      <td>372.756754</td>\n",
       "    </tr>\n",
       "    <tr>\n",
       "      <th>std</th>\n",
       "      <td>2.723895e+04</td>\n",
       "      <td>228.590686</td>\n",
       "    </tr>\n",
       "    <tr>\n",
       "      <th>min</th>\n",
       "      <td>-7.467000e+03</td>\n",
       "      <td>0.000000</td>\n",
       "    </tr>\n",
       "    <tr>\n",
       "      <th>25%</th>\n",
       "      <td>1.331000e+03</td>\n",
       "      <td>215.000000</td>\n",
       "    </tr>\n",
       "    <tr>\n",
       "      <th>50%</th>\n",
       "      <td>2.868000e+03</td>\n",
       "      <td>327.000000</td>\n",
       "    </tr>\n",
       "    <tr>\n",
       "      <th>75%</th>\n",
       "      <td>5.150000e+03</td>\n",
       "      <td>476.000000</td>\n",
       "    </tr>\n",
       "    <tr>\n",
       "      <th>max</th>\n",
       "      <td>3.285736e+06</td>\n",
       "      <td>5025.000000</td>\n",
       "    </tr>\n",
       "  </tbody>\n",
       "</table>\n",
       "</div>"
      ],
      "text/plain": [
       "       mean_rounded_gas_pulse  mean_rounded_electric_combined\n",
       "count            5.984100e+04                    66661.000000\n",
       "mean             5.129364e+03                      372.756754\n",
       "std              2.723895e+04                      228.590686\n",
       "min             -7.467000e+03                        0.000000\n",
       "25%              1.331000e+03                      215.000000\n",
       "50%              2.868000e+03                      327.000000\n",
       "75%              5.150000e+03                      476.000000\n",
       "max              3.285736e+06                     5025.000000"
      ]
     },
     "execution_count": 205,
     "metadata": {},
     "output_type": "execute_result"
    }
   ],
   "source": [
    "# have a look at the distribution of the energy consumption\n",
    "energy_use[['mean_rounded_gas_pulse','mean_rounded_electric_combined']].describe()"
   ]
  },
  {
   "cell_type": "markdown",
   "metadata": {},
   "source": [
    "The unit of measurement is watt-hours, representing the average hourly usage for each day. \n",
    "\n",
    "At first impression, the electricity values appear normal, with a minimum of 0, a maximum of 5025, and a median of 327. \n",
    "\n",
    "However, the gas values are unusual: the minimum is below 0, which is not possible, and the maximum is extremely high at 3.28*10^6. the mean of hourly gas in a day is over 5000 watt-hour, which is also strange. so we should deal with outliers."
   ]
  },
  {
   "cell_type": "markdown",
   "metadata": {},
   "source": [
    "# Compare raw dataset's mean and medain value with a benchmark. "
   ]
  },
  {
   "attachments": {
    "image.png": {
     "image/png": "[encoded data removed]"
    }
   },
   "cell_type": "markdown",
   "metadata": {},
   "source": [
    "Benchmark (same unit): \n",
    "\n",
    "- Average Energy Use Scottland https://great-home.co.uk/average-energy-consumption-calculator-scotland/ \n",
    "\n",
    "mean gas: 1626 watt-hours. (14,400 kWh a year).\n",
    "\n",
    "mean electricity is: 375 watt-hours, (3,200 kWh a year).\n",
    "\n",
    "- Result from BEIS's report on 2017 metered energy consumption show that: \n",
    "\n",
    " median gas: 1404 watt-hours, (12,300 kWh/year).\n",
    "\n",
    " median gas: 354 watt-hours, (3100 kWh/year).\n",
    "\n",
    " https://assets.publishing.service.gov.uk/media/61449c45e90e07044435c9e7/efus-Household-Energy-Consumption-Affordability.pdf\n",
    "\n",
    "\n",
    "![image.png](attachment:image.png)\n",
    "\n",
    "- Comparsion\n",
    "\n",
    "the results of mean gas of entire dataset (5129 watt-hours) which is odd and much higher than benchmark (1626 watt-hours). the median value 2868 watt-hours ia also higher than benchmark (1404 watt-hours).\n",
    "\n",
    "the result of mean electricity of entire dataset (372 watt-hours) is close to bechmark (375 watt-hours). the median value 327 watt-hours ia also close to benchmark (354 watt-hours). this seems to be reasonable.\n",
    "\n",
    "- We see only gas value is odd, so we need to deal with it"
   ]
  },
  {
   "cell_type": "markdown",
   "metadata": {},
   "source": [
    "# (2) Addressing Gas Usage Issues"
   ]
  },
  {
   "cell_type": "markdown",
   "metadata": {},
   "source": [
    "Before addressing the issues with gas usage in the \"energy use\" dataset, we will make a copy of it and name this copy \"original.\" \n",
    "\n",
    "This step ensures that the electricity data remains unaffected by the processes we apply to the gas usage data. \n",
    "\n",
    "After resolving the issues with gas data in the \"energy use\" dataset and obtaining reasonable gas data, we will use the \"original\" dataset again."
   ]
  },
  {
   "cell_type": "code",
   "execution_count": 207,
   "metadata": {},
   "outputs": [],
   "source": [
    "original = energy_use.copy() # take a copy "
   ]
  },
  {
   "cell_type": "markdown",
   "metadata": {},
   "source": [
    "# Detect the outliers of gas use"
   ]
  },
  {
   "cell_type": "code",
   "execution_count": 208,
   "metadata": {},
   "outputs": [
    {
     "data": {
      "text/plain": [
       "<Axes: >"
      ]
     },
     "execution_count": 208,
     "metadata": {},
     "output_type": "execute_result"
    },
    {
     "data": {
      "image/png": "[encoded data removed]",
      "text/plain": [
       "<Figure size 640x480 with 1 Axes>"
      ]
     },
     "metadata": {},
     "output_type": "display_data"
    }
   ],
   "source": [
    "# continue deal with gas data on dataset \"energy_use\"\n",
    "\n",
    "# check the distribution of gas_pulse\n",
    "energy_use['mean_rounded_gas_pulse'].hist()"
   ]
  },
  {
   "cell_type": "markdown",
   "metadata": {},
   "source": [
    "We've identified extremely obvious outliers in the gas usage data; for example, an average hourly gas consumption nearly 60,000 watt-hours in a day is impossible. \n",
    "\n",
    "We assume that by addressing these outliers, the average gas usage should align more closely with the benchmark values."
   ]
  },
  {
   "cell_type": "markdown",
   "metadata": {},
   "source": [
    "# Deal with extreme outliers"
   ]
  },
  {
   "cell_type": "markdown",
   "metadata": {},
   "source": [
    "- We need to identify extremely high outliers in our gas usage data.\n",
    "- It's important to account for winter conditions, where gas consumption can be significantly higher. Any daily values that exceed the highest average hourly gas use recorded in winter will be considered as extreme outliers.\n",
    "- According to a 2017 BEIS report on energy consumption, daily gas usage varied widely during the EFUS heating season, ranging from 27 kWh/day in October to 64 kWh/day in January. This variation reflects the seasonal changes in gas usage.\n",
    "- Based on this, we've set a threshold where daily gas usage should not exceed 64 kWh, equal to 6400 watt-hours.\n",
    "\n",
    "\n",
    "Thus, any value exceeding 6400 will be classified as 'extreme_outliers'."
   ]
  },
  {
   "cell_type": "code",
   "execution_count": 209,
   "metadata": {},
   "outputs": [],
   "source": [
    "# when the value is higher than 6400, we set this value to be 'extreme_outliers'\n",
    "energy_use['mean_rounded_gas_pulse'] = energy_use['mean_rounded_gas_pulse'].apply(lambda x: 'extreme_outliers' if x > 6400 else x )\n",
    "\n",
    "# remove the rows with 'extreme_outliers', in order to not affect any other data (e.g. not affect exsited NaN)\n",
    "energy_use = energy_use[energy_use['mean_rounded_gas_pulse'] != 'extreme_outliers']"
   ]
  },
  {
   "cell_type": "markdown",
   "metadata": {},
   "source": [
    "- Setting Negative Values to Zero\n",
    "\n",
    "This is a sensible approach as negative values for gas consumption are not possible and likely result from data entry errors or sensor malfunctions."
   ]
  },
  {
   "cell_type": "code",
   "execution_count": 210,
   "metadata": {},
   "outputs": [
    {
     "name": "stdout",
     "output_type": "stream",
     "text": [
      "Number of zero gas values: 1\n",
      "set negetive value to be 0\n"
     ]
    }
   ],
   "source": [
    "# check number of of negetive values\n",
    "zero_gas_count = (energy_use['mean_rounded_gas_pulse'] < 0).sum()\n",
    "print(\"Number of zero gas values:\", zero_gas_count)\n",
    "\n",
    "print('set negetive value to be 0')\n",
    "energy_use['mean_rounded_gas_pulse'] = energy_use['mean_rounded_gas_pulse'].clip(lower=0)"
   ]
  },
  {
   "cell_type": "markdown",
   "metadata": {},
   "source": [
    "# Check the results after remove extremly outliers of gas useage"
   ]
  },
  {
   "cell_type": "code",
   "execution_count": 211,
   "metadata": {},
   "outputs": [
    {
     "data": {
      "text/html": [
       "<div>\n",
       "<style scoped>\n",
       "    .dataframe tbody tr th:only-of-type {\n",
       "        vertical-align: middle;\n",
       "    }\n",
       "\n",
       "    .dataframe tbody tr th {\n",
       "        vertical-align: top;\n",
       "    }\n",
       "\n",
       "    .dataframe thead th {\n",
       "        text-align: right;\n",
       "    }\n",
       "</style>\n",
       "<table border=\"1\" class=\"dataframe\">\n",
       "  <thead>\n",
       "    <tr style=\"text-align: right;\">\n",
       "      <th></th>\n",
       "      <th>mean_rounded_gas_pulse</th>\n",
       "    </tr>\n",
       "  </thead>\n",
       "  <tbody>\n",
       "    <tr>\n",
       "      <th>count</th>\n",
       "      <td>49468.000000</td>\n",
       "    </tr>\n",
       "    <tr>\n",
       "      <th>mean</th>\n",
       "      <td>2548.806845</td>\n",
       "    </tr>\n",
       "    <tr>\n",
       "      <th>std</th>\n",
       "      <td>1666.599693</td>\n",
       "    </tr>\n",
       "    <tr>\n",
       "      <th>min</th>\n",
       "      <td>0.000000</td>\n",
       "    </tr>\n",
       "    <tr>\n",
       "      <th>25%</th>\n",
       "      <td>1106.000000</td>\n",
       "    </tr>\n",
       "    <tr>\n",
       "      <th>50%</th>\n",
       "      <td>2291.000000</td>\n",
       "    </tr>\n",
       "    <tr>\n",
       "      <th>75%</th>\n",
       "      <td>3769.000000</td>\n",
       "    </tr>\n",
       "    <tr>\n",
       "      <th>max</th>\n",
       "      <td>6399.000000</td>\n",
       "    </tr>\n",
       "  </tbody>\n",
       "</table>\n",
       "</div>"
      ],
      "text/plain": [
       "       mean_rounded_gas_pulse\n",
       "count            49468.000000\n",
       "mean              2548.806845\n",
       "std               1666.599693\n",
       "min                  0.000000\n",
       "25%               1106.000000\n",
       "50%               2291.000000\n",
       "75%               3769.000000\n",
       "max               6399.000000"
      ]
     },
     "execution_count": 211,
     "metadata": {},
     "output_type": "execute_result"
    }
   ],
   "source": [
    "# distribution of gas use after deal with outliers\n",
    "energy_use[['mean_rounded_gas_pulse']].astype(float).describe()"
   ]
  },
  {
   "cell_type": "markdown",
   "metadata": {},
   "source": [
    "- the results of mean gas of entire dataset (2548 watt-hours) which become more \"reasonable\" but still higher than benchmark (1626 watt-hours). the median value 2291 watt-hours ia also higher than benchmark (1404 watt-hours).\n",
    "\n",
    "To further refine the data, we need to consider the instances where homes did not use gas on a particular day.\n",
    "\n",
    "Previously, we assumed that values below 0 indicated no gas usage, and we adjusted them to 0. \n",
    "\n",
    "However, we must also consider how to handle NaN values. It's possible that NaN values represent days when gas was not used, and the sensors failed to record any data. (will validate the results by comparing medain value with benchmark)\n",
    "\n",
    "Therefore, we need to investigate the NaN values in the gas data to determine their significance and adjust accordingly."
   ]
  },
  {
   "cell_type": "markdown",
   "metadata": {},
   "source": [
    "# Deal with NaN value of gas use\n",
    "\n",
    "- determine the days that residentis did not use gas."
   ]
  },
  {
   "cell_type": "code",
   "execution_count": 212,
   "metadata": {},
   "outputs": [
    {
     "data": {
      "text/plain": [
       "year  month\n",
       "2016  8          36\n",
       "      9          63\n",
       "      10         45\n",
       "      11        100\n",
       "      12        125\n",
       "2017  1         149\n",
       "      2         117\n",
       "      3         135\n",
       "      4         209\n",
       "      5         239\n",
       "      6         400\n",
       "      7         581\n",
       "      8         539\n",
       "      9         736\n",
       "      10        758\n",
       "      11        784\n",
       "      12       1007\n",
       "2018  1         953\n",
       "      2         758\n",
       "      3         920\n",
       "      4        1072\n",
       "      5        1203\n",
       "      6         836\n",
       "Name: mean_rounded_gas_pulse, dtype: int64"
      ]
     },
     "execution_count": 212,
     "metadata": {},
     "output_type": "execute_result"
    }
   ],
   "source": [
    "# check the missing gas value of each month in raw dataset\n",
    "missing_gas = energy_use.copy()\n",
    "missing_gas = missing_gas.groupby(by=['year','month'])['mean_rounded_gas_pulse'].apply(lambda x: x.isnull().sum())\n",
    "missing_gas"
   ]
  },
  {
   "cell_type": "markdown",
   "metadata": {},
   "source": [
    "We've observed a significant number of missing values in the daily gas usage data in each month, which could explain why the average gas consumption consistently exceeds the benchmark. \n",
    "\n",
    "We have decided to interpret these NaN values as instances where no gas was used on that particular day. \n",
    "\n",
    "Therefore, we will set these NaN values to 0 rather than treating them as missing data. This approach should help provide a more accurate reflection of actual gas usage."
   ]
  },
  {
   "cell_type": "code",
   "execution_count": 213,
   "metadata": {},
   "outputs": [],
   "source": [
    "# set the missing gas value to 0\n",
    "energy_use['mean_rounded_gas_pulse'] = energy_use['mean_rounded_gas_pulse'].fillna(0)"
   ]
  },
  {
   "cell_type": "code",
   "execution_count": 214,
   "metadata": {},
   "outputs": [
    {
     "data": {
      "text/html": [
       "<div>\n",
       "<style scoped>\n",
       "    .dataframe tbody tr th:only-of-type {\n",
       "        vertical-align: middle;\n",
       "    }\n",
       "\n",
       "    .dataframe tbody tr th {\n",
       "        vertical-align: top;\n",
       "    }\n",
       "\n",
       "    .dataframe thead th {\n",
       "        text-align: right;\n",
       "    }\n",
       "</style>\n",
       "<table border=\"1\" class=\"dataframe\">\n",
       "  <thead>\n",
       "    <tr style=\"text-align: right;\">\n",
       "      <th></th>\n",
       "      <th>household_id</th>\n",
       "      <th>datetime</th>\n",
       "      <th>maxtemp</th>\n",
       "      <th>mintemp</th>\n",
       "      <th>conditions</th>\n",
       "      <th>day_of_week</th>\n",
       "      <th>is_weekend</th>\n",
       "      <th>is_bank_holiday</th>\n",
       "      <th>mean_rounded_gas_pulse</th>\n",
       "      <th>mean_rounded_electric_combined</th>\n",
       "      <th>year</th>\n",
       "      <th>month</th>\n",
       "    </tr>\n",
       "  </thead>\n",
       "  <tbody>\n",
       "    <tr>\n",
       "      <th>0</th>\n",
       "      <td>100</td>\n",
       "      <td>2017-03-07</td>\n",
       "      <td>10.0</td>\n",
       "      <td>4.0</td>\n",
       "      <td>Chance of Rain</td>\n",
       "      <td>1.0</td>\n",
       "      <td>False</td>\n",
       "      <td>False</td>\n",
       "      <td>5277.0</td>\n",
       "      <td>343.0</td>\n",
       "      <td>2017</td>\n",
       "      <td>3</td>\n",
       "    </tr>\n",
       "    <tr>\n",
       "      <th>2</th>\n",
       "      <td>100</td>\n",
       "      <td>2017-03-09</td>\n",
       "      <td>11.0</td>\n",
       "      <td>3.0</td>\n",
       "      <td>Chance of Rain</td>\n",
       "      <td>3.0</td>\n",
       "      <td>False</td>\n",
       "      <td>False</td>\n",
       "      <td>1283.0</td>\n",
       "      <td>203.0</td>\n",
       "      <td>2017</td>\n",
       "      <td>3</td>\n",
       "    </tr>\n",
       "    <tr>\n",
       "      <th>3</th>\n",
       "      <td>100</td>\n",
       "      <td>2017-03-10</td>\n",
       "      <td>10.0</td>\n",
       "      <td>7.0</td>\n",
       "      <td>Overcast</td>\n",
       "      <td>4.0</td>\n",
       "      <td>False</td>\n",
       "      <td>False</td>\n",
       "      <td>4168.0</td>\n",
       "      <td>222.0</td>\n",
       "      <td>2017</td>\n",
       "      <td>3</td>\n",
       "    </tr>\n",
       "    <tr>\n",
       "      <th>4</th>\n",
       "      <td>100</td>\n",
       "      <td>2017-03-11</td>\n",
       "      <td>13.0</td>\n",
       "      <td>6.0</td>\n",
       "      <td>Chance of Rain</td>\n",
       "      <td>5.0</td>\n",
       "      <td>True</td>\n",
       "      <td>False</td>\n",
       "      <td>1264.0</td>\n",
       "      <td>243.0</td>\n",
       "      <td>2017</td>\n",
       "      <td>3</td>\n",
       "    </tr>\n",
       "    <tr>\n",
       "      <th>5</th>\n",
       "      <td>100</td>\n",
       "      <td>2017-03-12</td>\n",
       "      <td>11.0</td>\n",
       "      <td>4.0</td>\n",
       "      <td>Clear</td>\n",
       "      <td>6.0</td>\n",
       "      <td>True</td>\n",
       "      <td>False</td>\n",
       "      <td>3855.0</td>\n",
       "      <td>324.0</td>\n",
       "      <td>2017</td>\n",
       "      <td>3</td>\n",
       "    </tr>\n",
       "    <tr>\n",
       "      <th>...</th>\n",
       "      <td>...</td>\n",
       "      <td>...</td>\n",
       "      <td>...</td>\n",
       "      <td>...</td>\n",
       "      <td>...</td>\n",
       "      <td>...</td>\n",
       "      <td>...</td>\n",
       "      <td>...</td>\n",
       "      <td>...</td>\n",
       "      <td>...</td>\n",
       "      <td>...</td>\n",
       "      <td>...</td>\n",
       "    </tr>\n",
       "    <tr>\n",
       "      <th>71601</th>\n",
       "      <td>99</td>\n",
       "      <td>2018-06-26</td>\n",
       "      <td>16.0</td>\n",
       "      <td>11.0</td>\n",
       "      <td>Partly Cloudy</td>\n",
       "      <td>1.0</td>\n",
       "      <td>False</td>\n",
       "      <td>False</td>\n",
       "      <td>941.0</td>\n",
       "      <td>331.0</td>\n",
       "      <td>2018</td>\n",
       "      <td>6</td>\n",
       "    </tr>\n",
       "    <tr>\n",
       "      <th>71602</th>\n",
       "      <td>99</td>\n",
       "      <td>2018-06-27</td>\n",
       "      <td>22.0</td>\n",
       "      <td>12.0</td>\n",
       "      <td>Partly Cloudy</td>\n",
       "      <td>2.0</td>\n",
       "      <td>False</td>\n",
       "      <td>False</td>\n",
       "      <td>907.0</td>\n",
       "      <td>391.0</td>\n",
       "      <td>2018</td>\n",
       "      <td>6</td>\n",
       "    </tr>\n",
       "    <tr>\n",
       "      <th>71603</th>\n",
       "      <td>99</td>\n",
       "      <td>2018-06-28</td>\n",
       "      <td>28.0</td>\n",
       "      <td>11.0</td>\n",
       "      <td>Clear</td>\n",
       "      <td>3.0</td>\n",
       "      <td>False</td>\n",
       "      <td>False</td>\n",
       "      <td>702.0</td>\n",
       "      <td>360.0</td>\n",
       "      <td>2018</td>\n",
       "      <td>6</td>\n",
       "    </tr>\n",
       "    <tr>\n",
       "      <th>71604</th>\n",
       "      <td>99</td>\n",
       "      <td>2018-06-29</td>\n",
       "      <td>16.0</td>\n",
       "      <td>9.0</td>\n",
       "      <td>Partly Cloudy</td>\n",
       "      <td>4.0</td>\n",
       "      <td>False</td>\n",
       "      <td>False</td>\n",
       "      <td>895.0</td>\n",
       "      <td>500.0</td>\n",
       "      <td>2018</td>\n",
       "      <td>6</td>\n",
       "    </tr>\n",
       "    <tr>\n",
       "      <th>71605</th>\n",
       "      <td>99</td>\n",
       "      <td>2018-06-30</td>\n",
       "      <td>21.0</td>\n",
       "      <td>9.0</td>\n",
       "      <td>Clear</td>\n",
       "      <td>5.0</td>\n",
       "      <td>True</td>\n",
       "      <td>False</td>\n",
       "      <td>0.0</td>\n",
       "      <td>117.0</td>\n",
       "      <td>2018</td>\n",
       "      <td>6</td>\n",
       "    </tr>\n",
       "  </tbody>\n",
       "</table>\n",
       "<p>61233 rows × 12 columns</p>\n",
       "</div>"
      ],
      "text/plain": [
       "       household_id   datetime  maxtemp  mintemp      conditions  day_of_week  \\\n",
       "0               100 2017-03-07     10.0      4.0  Chance of Rain          1.0   \n",
       "2               100 2017-03-09     11.0      3.0  Chance of Rain          3.0   \n",
       "3               100 2017-03-10     10.0      7.0        Overcast          4.0   \n",
       "4               100 2017-03-11     13.0      6.0  Chance of Rain          5.0   \n",
       "5               100 2017-03-12     11.0      4.0           Clear          6.0   \n",
       "...             ...        ...      ...      ...             ...          ...   \n",
       "71601            99 2018-06-26     16.0     11.0   Partly Cloudy          1.0   \n",
       "71602            99 2018-06-27     22.0     12.0   Partly Cloudy          2.0   \n",
       "71603            99 2018-06-28     28.0     11.0           Clear          3.0   \n",
       "71604            99 2018-06-29     16.0      9.0   Partly Cloudy          4.0   \n",
       "71605            99 2018-06-30     21.0      9.0           Clear          5.0   \n",
       "\n",
       "      is_weekend is_bank_holiday  mean_rounded_gas_pulse  \\\n",
       "0          False           False                  5277.0   \n",
       "2          False           False                  1283.0   \n",
       "3          False           False                  4168.0   \n",
       "4           True           False                  1264.0   \n",
       "5           True           False                  3855.0   \n",
       "...          ...             ...                     ...   \n",
       "71601      False           False                   941.0   \n",
       "71602      False           False                   907.0   \n",
       "71603      False           False                   702.0   \n",
       "71604      False           False                   895.0   \n",
       "71605       True           False                     0.0   \n",
       "\n",
       "       mean_rounded_electric_combined  year  month  \n",
       "0                               343.0  2017      3  \n",
       "2                               203.0  2017      3  \n",
       "3                               222.0  2017      3  \n",
       "4                               243.0  2017      3  \n",
       "5                               324.0  2017      3  \n",
       "...                               ...   ...    ...  \n",
       "71601                           331.0  2018      6  \n",
       "71602                           391.0  2018      6  \n",
       "71603                           360.0  2018      6  \n",
       "71604                           500.0  2018      6  \n",
       "71605                           117.0  2018      6  \n",
       "\n",
       "[61233 rows x 12 columns]"
      ]
     },
     "execution_count": 214,
     "metadata": {},
     "output_type": "execute_result"
    }
   ],
   "source": [
    "energy_use"
   ]
  },
  {
   "cell_type": "code",
   "execution_count": 215,
   "metadata": {},
   "outputs": [
    {
     "data": {
      "image/png": "[encoded data removed]",
      "text/plain": [
       "<Figure size 1000x300 with 1 Axes>"
      ]
     },
     "metadata": {},
     "output_type": "display_data"
    }
   ],
   "source": [
    "# check how many days that gas is 0 of average home in each month (if the gas is 0, it means the gas is not used in that particular day)\n",
    "zero_gas  = energy_use[['datetime','mean_rounded_gas_pulse']].copy()\n",
    "zero_gas = zero_gas[zero_gas['mean_rounded_gas_pulse'] == 0]\n",
    "zero_gas['month'] = pd.to_datetime(zero_gas['datetime']).dt.month\n",
    "zero_gas_count = zero_gas.groupby(by=['month']).size() / 255 #  average number of zero gas value of each home in each month\n",
    "zero_gas_count.plot(kind='bar',figsize=(10, 3))\n",
    "plt.ylabel('Count of Zero Days')\n",
    "plt.show()"
   ]
  },
  {
   "cell_type": "markdown",
   "metadata": {},
   "source": [
    "The results appear reasonable; on average, there may be days in each month when residents do not consume gas, potentially due to being on holiday or for other reasons."
   ]
  },
  {
   "cell_type": "markdown",
   "metadata": {},
   "source": [
    "# check gas distrubution after dealing NaN value of gas"
   ]
  },
  {
   "cell_type": "code",
   "execution_count": 216,
   "metadata": {},
   "outputs": [
    {
     "data": {
      "text/html": [
       "<div>\n",
       "<style scoped>\n",
       "    .dataframe tbody tr th:only-of-type {\n",
       "        vertical-align: middle;\n",
       "    }\n",
       "\n",
       "    .dataframe tbody tr th {\n",
       "        vertical-align: top;\n",
       "    }\n",
       "\n",
       "    .dataframe thead th {\n",
       "        text-align: right;\n",
       "    }\n",
       "</style>\n",
       "<table border=\"1\" class=\"dataframe\">\n",
       "  <thead>\n",
       "    <tr style=\"text-align: right;\">\n",
       "      <th></th>\n",
       "      <th>mean_rounded_gas_pulse</th>\n",
       "    </tr>\n",
       "  </thead>\n",
       "  <tbody>\n",
       "    <tr>\n",
       "      <th>count</th>\n",
       "      <td>61233.000000</td>\n",
       "    </tr>\n",
       "    <tr>\n",
       "      <th>mean</th>\n",
       "      <td>2059.091944</td>\n",
       "    </tr>\n",
       "    <tr>\n",
       "      <th>std</th>\n",
       "      <td>1803.403717</td>\n",
       "    </tr>\n",
       "    <tr>\n",
       "      <th>min</th>\n",
       "      <td>0.000000</td>\n",
       "    </tr>\n",
       "    <tr>\n",
       "      <th>25%</th>\n",
       "      <td>434.000000</td>\n",
       "    </tr>\n",
       "    <tr>\n",
       "      <th>50%</th>\n",
       "      <td>1692.000000</td>\n",
       "    </tr>\n",
       "    <tr>\n",
       "      <th>75%</th>\n",
       "      <td>3371.000000</td>\n",
       "    </tr>\n",
       "    <tr>\n",
       "      <th>max</th>\n",
       "      <td>6399.000000</td>\n",
       "    </tr>\n",
       "  </tbody>\n",
       "</table>\n",
       "</div>"
      ],
      "text/plain": [
       "       mean_rounded_gas_pulse\n",
       "count            61233.000000\n",
       "mean              2059.091944\n",
       "std               1803.403717\n",
       "min                  0.000000\n",
       "25%                434.000000\n",
       "50%               1692.000000\n",
       "75%               3371.000000\n",
       "max               6399.000000"
      ]
     },
     "execution_count": 216,
     "metadata": {},
     "output_type": "execute_result"
    }
   ],
   "source": [
    "# check result of gas\n",
    "energy_use[['mean_rounded_gas_pulse']].describe()"
   ]
  },
  {
   "cell_type": "markdown",
   "metadata": {},
   "source": [
    "- the results of mean gas of entire dataset (2059 watt-hours) was decreased eventhough still higher than benchmark (1626 watt-hours). the median value 1629 watt-hours is close to benchmark (1404 watt-hours)."
   ]
  },
  {
   "cell_type": "code",
   "execution_count": 217,
   "metadata": {},
   "outputs": [
    {
     "data": {
      "text/plain": [
       "Text(0, 0.5, 'Gas use')"
      ]
     },
     "execution_count": 217,
     "metadata": {},
     "output_type": "execute_result"
    },
    {
     "data": {
      "image/png": "[encoded data removed]",
      "text/plain": [
       "<Figure size 640x480 with 1 Axes>"
      ]
     },
     "metadata": {},
     "output_type": "display_data"
    }
   ],
   "source": [
    "# using boxplot to check whether there are outliers under the principle of 1.5*IQR. Interquartile Range (IQR) Method\n",
    "\n",
    "sns.boxplot(y=energy_use['mean_rounded_gas_pulse'])\n",
    "plt.ylabel('Gas use')"
   ]
  },
  {
   "cell_type": "markdown",
   "metadata": {},
   "source": [
    "- we can see that there are not outliers in gas now.\n",
    "\n",
    "- In conclusion:\n",
    "\n",
    "Although the average gas consumption (2,059 watt-hours) remains above the benchmark (1,626 watt-hours), the median value closely aligns with the benchmark. \n",
    "\n",
    "Therefore, we will retain these final results of gas."
   ]
  },
  {
   "cell_type": "markdown",
   "metadata": {},
   "source": [
    "# Integrate processed gas data back into main dataset"
   ]
  },
  {
   "cell_type": "code",
   "execution_count": 218,
   "metadata": {},
   "outputs": [],
   "source": [
    "# integrate the column of processed gas data into the main dataset named 'original' which contains original electricity data.\n",
    "original['mean_rounded_gas_pulse'] = energy_use['mean_rounded_gas_pulse']"
   ]
  },
  {
   "cell_type": "code",
   "execution_count": 219,
   "metadata": {},
   "outputs": [
    {
     "data": {
      "text/html": [
       "<div>\n",
       "<style scoped>\n",
       "    .dataframe tbody tr th:only-of-type {\n",
       "        vertical-align: middle;\n",
       "    }\n",
       "\n",
       "    .dataframe tbody tr th {\n",
       "        vertical-align: top;\n",
       "    }\n",
       "\n",
       "    .dataframe thead th {\n",
       "        text-align: right;\n",
       "    }\n",
       "</style>\n",
       "<table border=\"1\" class=\"dataframe\">\n",
       "  <thead>\n",
       "    <tr style=\"text-align: right;\">\n",
       "      <th></th>\n",
       "      <th>mean_rounded_gas_pulse</th>\n",
       "      <th>mean_rounded_electric_combined</th>\n",
       "    </tr>\n",
       "  </thead>\n",
       "  <tbody>\n",
       "    <tr>\n",
       "      <th>count</th>\n",
       "      <td>61233.000000</td>\n",
       "      <td>66661.000000</td>\n",
       "    </tr>\n",
       "    <tr>\n",
       "      <th>mean</th>\n",
       "      <td>2059.091944</td>\n",
       "      <td>372.756754</td>\n",
       "    </tr>\n",
       "    <tr>\n",
       "      <th>std</th>\n",
       "      <td>1803.403717</td>\n",
       "      <td>228.590686</td>\n",
       "    </tr>\n",
       "    <tr>\n",
       "      <th>min</th>\n",
       "      <td>0.000000</td>\n",
       "      <td>0.000000</td>\n",
       "    </tr>\n",
       "    <tr>\n",
       "      <th>25%</th>\n",
       "      <td>434.000000</td>\n",
       "      <td>215.000000</td>\n",
       "    </tr>\n",
       "    <tr>\n",
       "      <th>50%</th>\n",
       "      <td>1692.000000</td>\n",
       "      <td>327.000000</td>\n",
       "    </tr>\n",
       "    <tr>\n",
       "      <th>75%</th>\n",
       "      <td>3371.000000</td>\n",
       "      <td>476.000000</td>\n",
       "    </tr>\n",
       "    <tr>\n",
       "      <th>max</th>\n",
       "      <td>6399.000000</td>\n",
       "      <td>5025.000000</td>\n",
       "    </tr>\n",
       "  </tbody>\n",
       "</table>\n",
       "</div>"
      ],
      "text/plain": [
       "       mean_rounded_gas_pulse  mean_rounded_electric_combined\n",
       "count            61233.000000                    66661.000000\n",
       "mean              2059.091944                      372.756754\n",
       "std               1803.403717                      228.590686\n",
       "min                  0.000000                        0.000000\n",
       "25%                434.000000                      215.000000\n",
       "50%               1692.000000                      327.000000\n",
       "75%               3371.000000                      476.000000\n",
       "max               6399.000000                     5025.000000"
      ]
     },
     "execution_count": 219,
     "metadata": {},
     "output_type": "execute_result"
    }
   ],
   "source": [
    "# check the final result of \"original\" dataset\n",
    "original[['mean_rounded_gas_pulse','mean_rounded_electric_combined']].describe()"
   ]
  },
  {
   "cell_type": "code",
   "execution_count": 220,
   "metadata": {},
   "outputs": [
    {
     "data": {
      "text/plain": [
       "<Axes: xlabel='month'>"
      ]
     },
     "execution_count": 220,
     "metadata": {},
     "output_type": "execute_result"
    },
    {
     "data": {
      "image/png": "[encoded data removed]",
      "text/plain": [
       "<Figure size 640x480 with 2 Axes>"
      ]
     },
     "metadata": {},
     "output_type": "display_data"
    }
   ],
   "source": [
    "# check value of each month\n",
    "monthly_energy = original.copy().groupby(by=['month'])[['mean_rounded_gas_pulse','mean_rounded_electric_combined']].mean()\n",
    "monthly_energy.plot(secondary_y='mean_rounded_electric_combined')"
   ]
  },
  {
   "cell_type": "code",
   "execution_count": 221,
   "metadata": {},
   "outputs": [
    {
     "data": {
      "text/html": [
       "<div>\n",
       "<style scoped>\n",
       "    .dataframe tbody tr th:only-of-type {\n",
       "        vertical-align: middle;\n",
       "    }\n",
       "\n",
       "    .dataframe tbody tr th {\n",
       "        vertical-align: top;\n",
       "    }\n",
       "\n",
       "    .dataframe thead th {\n",
       "        text-align: right;\n",
       "    }\n",
       "</style>\n",
       "<table border=\"1\" class=\"dataframe\">\n",
       "  <thead>\n",
       "    <tr style=\"text-align: right;\">\n",
       "      <th></th>\n",
       "      <th>homeid</th>\n",
       "      <th>datetime</th>\n",
       "      <th>maxtemp</th>\n",
       "      <th>mintemp</th>\n",
       "      <th>conditions</th>\n",
       "      <th>day_of_week</th>\n",
       "      <th>is_weekend</th>\n",
       "      <th>is_bank_holiday</th>\n",
       "      <th>mean_rounded_gas_pulse</th>\n",
       "      <th>mean_rounded_electric_combined</th>\n",
       "      <th>year</th>\n",
       "      <th>month</th>\n",
       "    </tr>\n",
       "  </thead>\n",
       "  <tbody>\n",
       "    <tr>\n",
       "      <th>0</th>\n",
       "      <td>100</td>\n",
       "      <td>2017-03-07</td>\n",
       "      <td>10.0</td>\n",
       "      <td>4.0</td>\n",
       "      <td>Chance of Rain</td>\n",
       "      <td>1.0</td>\n",
       "      <td>False</td>\n",
       "      <td>False</td>\n",
       "      <td>5277.0</td>\n",
       "      <td>343.0</td>\n",
       "      <td>2017</td>\n",
       "      <td>3</td>\n",
       "    </tr>\n",
       "    <tr>\n",
       "      <th>1</th>\n",
       "      <td>100</td>\n",
       "      <td>2017-03-08</td>\n",
       "      <td>11.0</td>\n",
       "      <td>5.0</td>\n",
       "      <td>Chance of Rain</td>\n",
       "      <td>2.0</td>\n",
       "      <td>False</td>\n",
       "      <td>False</td>\n",
       "      <td>NaN</td>\n",
       "      <td>253.0</td>\n",
       "      <td>2017</td>\n",
       "      <td>3</td>\n",
       "    </tr>\n",
       "    <tr>\n",
       "      <th>2</th>\n",
       "      <td>100</td>\n",
       "      <td>2017-03-09</td>\n",
       "      <td>11.0</td>\n",
       "      <td>3.0</td>\n",
       "      <td>Chance of Rain</td>\n",
       "      <td>3.0</td>\n",
       "      <td>False</td>\n",
       "      <td>False</td>\n",
       "      <td>1283.0</td>\n",
       "      <td>203.0</td>\n",
       "      <td>2017</td>\n",
       "      <td>3</td>\n",
       "    </tr>\n",
       "    <tr>\n",
       "      <th>3</th>\n",
       "      <td>100</td>\n",
       "      <td>2017-03-10</td>\n",
       "      <td>10.0</td>\n",
       "      <td>7.0</td>\n",
       "      <td>Overcast</td>\n",
       "      <td>4.0</td>\n",
       "      <td>False</td>\n",
       "      <td>False</td>\n",
       "      <td>4168.0</td>\n",
       "      <td>222.0</td>\n",
       "      <td>2017</td>\n",
       "      <td>3</td>\n",
       "    </tr>\n",
       "    <tr>\n",
       "      <th>4</th>\n",
       "      <td>100</td>\n",
       "      <td>2017-03-11</td>\n",
       "      <td>13.0</td>\n",
       "      <td>6.0</td>\n",
       "      <td>Chance of Rain</td>\n",
       "      <td>5.0</td>\n",
       "      <td>True</td>\n",
       "      <td>False</td>\n",
       "      <td>1264.0</td>\n",
       "      <td>243.0</td>\n",
       "      <td>2017</td>\n",
       "      <td>3</td>\n",
       "    </tr>\n",
       "    <tr>\n",
       "      <th>...</th>\n",
       "      <td>...</td>\n",
       "      <td>...</td>\n",
       "      <td>...</td>\n",
       "      <td>...</td>\n",
       "      <td>...</td>\n",
       "      <td>...</td>\n",
       "      <td>...</td>\n",
       "      <td>...</td>\n",
       "      <td>...</td>\n",
       "      <td>...</td>\n",
       "      <td>...</td>\n",
       "      <td>...</td>\n",
       "    </tr>\n",
       "    <tr>\n",
       "      <th>71601</th>\n",
       "      <td>99</td>\n",
       "      <td>2018-06-26</td>\n",
       "      <td>16.0</td>\n",
       "      <td>11.0</td>\n",
       "      <td>Partly Cloudy</td>\n",
       "      <td>1.0</td>\n",
       "      <td>False</td>\n",
       "      <td>False</td>\n",
       "      <td>941.0</td>\n",
       "      <td>331.0</td>\n",
       "      <td>2018</td>\n",
       "      <td>6</td>\n",
       "    </tr>\n",
       "    <tr>\n",
       "      <th>71602</th>\n",
       "      <td>99</td>\n",
       "      <td>2018-06-27</td>\n",
       "      <td>22.0</td>\n",
       "      <td>12.0</td>\n",
       "      <td>Partly Cloudy</td>\n",
       "      <td>2.0</td>\n",
       "      <td>False</td>\n",
       "      <td>False</td>\n",
       "      <td>907.0</td>\n",
       "      <td>391.0</td>\n",
       "      <td>2018</td>\n",
       "      <td>6</td>\n",
       "    </tr>\n",
       "    <tr>\n",
       "      <th>71603</th>\n",
       "      <td>99</td>\n",
       "      <td>2018-06-28</td>\n",
       "      <td>28.0</td>\n",
       "      <td>11.0</td>\n",
       "      <td>Clear</td>\n",
       "      <td>3.0</td>\n",
       "      <td>False</td>\n",
       "      <td>False</td>\n",
       "      <td>702.0</td>\n",
       "      <td>360.0</td>\n",
       "      <td>2018</td>\n",
       "      <td>6</td>\n",
       "    </tr>\n",
       "    <tr>\n",
       "      <th>71604</th>\n",
       "      <td>99</td>\n",
       "      <td>2018-06-29</td>\n",
       "      <td>16.0</td>\n",
       "      <td>9.0</td>\n",
       "      <td>Partly Cloudy</td>\n",
       "      <td>4.0</td>\n",
       "      <td>False</td>\n",
       "      <td>False</td>\n",
       "      <td>895.0</td>\n",
       "      <td>500.0</td>\n",
       "      <td>2018</td>\n",
       "      <td>6</td>\n",
       "    </tr>\n",
       "    <tr>\n",
       "      <th>71605</th>\n",
       "      <td>99</td>\n",
       "      <td>2018-06-30</td>\n",
       "      <td>21.0</td>\n",
       "      <td>9.0</td>\n",
       "      <td>Clear</td>\n",
       "      <td>5.0</td>\n",
       "      <td>True</td>\n",
       "      <td>False</td>\n",
       "      <td>0.0</td>\n",
       "      <td>117.0</td>\n",
       "      <td>2018</td>\n",
       "      <td>6</td>\n",
       "    </tr>\n",
       "  </tbody>\n",
       "</table>\n",
       "<p>71606 rows × 12 columns</p>\n",
       "</div>"
      ],
      "text/plain": [
       "       homeid   datetime  maxtemp  mintemp      conditions  day_of_week  \\\n",
       "0         100 2017-03-07     10.0      4.0  Chance of Rain          1.0   \n",
       "1         100 2017-03-08     11.0      5.0  Chance of Rain          2.0   \n",
       "2         100 2017-03-09     11.0      3.0  Chance of Rain          3.0   \n",
       "3         100 2017-03-10     10.0      7.0        Overcast          4.0   \n",
       "4         100 2017-03-11     13.0      6.0  Chance of Rain          5.0   \n",
       "...       ...        ...      ...      ...             ...          ...   \n",
       "71601      99 2018-06-26     16.0     11.0   Partly Cloudy          1.0   \n",
       "71602      99 2018-06-27     22.0     12.0   Partly Cloudy          2.0   \n",
       "71603      99 2018-06-28     28.0     11.0           Clear          3.0   \n",
       "71604      99 2018-06-29     16.0      9.0   Partly Cloudy          4.0   \n",
       "71605      99 2018-06-30     21.0      9.0           Clear          5.0   \n",
       "\n",
       "      is_weekend is_bank_holiday  mean_rounded_gas_pulse  \\\n",
       "0          False           False                  5277.0   \n",
       "1          False           False                     NaN   \n",
       "2          False           False                  1283.0   \n",
       "3          False           False                  4168.0   \n",
       "4           True           False                  1264.0   \n",
       "...          ...             ...                     ...   \n",
       "71601      False           False                   941.0   \n",
       "71602      False           False                   907.0   \n",
       "71603      False           False                   702.0   \n",
       "71604      False           False                   895.0   \n",
       "71605       True           False                     0.0   \n",
       "\n",
       "       mean_rounded_electric_combined  year  month  \n",
       "0                               343.0  2017      3  \n",
       "1                               253.0  2017      3  \n",
       "2                               203.0  2017      3  \n",
       "3                               222.0  2017      3  \n",
       "4                               243.0  2017      3  \n",
       "...                               ...   ...    ...  \n",
       "71601                           331.0  2018      6  \n",
       "71602                           391.0  2018      6  \n",
       "71603                           360.0  2018      6  \n",
       "71604                           500.0  2018      6  \n",
       "71605                           117.0  2018      6  \n",
       "\n",
       "[71606 rows x 12 columns]"
      ]
     },
     "execution_count": 221,
     "metadata": {},
     "output_type": "execute_result"
    }
   ],
   "source": [
    "# rename the column name of \"household_id\" to \"homeid\" for furthur use\n",
    "original.rename(columns={'household_id':'homeid'}, inplace=True)\n",
    "original"
   ]
  },
  {
   "cell_type": "markdown",
   "metadata": {},
   "source": [
    "Now, we have successfully completed the preprocessing of the raw gas and electricity data. Save the this dataset after deal with outliers to furthur use."
   ]
  },
  {
   "cell_type": "code",
   "execution_count": 222,
   "metadata": {},
   "outputs": [],
   "source": [
    "# save the final dataset\n",
    "# original.to_csv('daily_energy_use_after_processing_outliers.csv', index=False)"
   ]
  }
 ],
 "metadata": {
  "kernelspec": {
   "display_name": "base",
   "language": "python",
   "name": "python3"
  },
  "language_info": {
   "codemirror_mode": {
    "name": "ipython",
    "version": 3
   },
   "file_extension": ".py",
   "mimetype": "text/x-python",
   "name": "python",
   "nbconvert_exporter": "python",
   "pygments_lexer": "ipython3",
   "version": "3.11.7"
  }
 },
 "nbformat": 4,
 "nbformat_minor": 2
}
