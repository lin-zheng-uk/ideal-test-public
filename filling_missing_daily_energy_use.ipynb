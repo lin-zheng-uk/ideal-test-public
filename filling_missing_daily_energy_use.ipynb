{
 "cells": [
  {
   "cell_type": "code",
   "execution_count": 1,
   "metadata": {},
   "outputs": [],
   "source": [
    "import pandas as pd\n",
    "import numpy as np\n",
    "import matplotlib.pyplot as plt\n",
    "import seaborn as sns"
   ]
  },
  {
   "cell_type": "markdown",
   "metadata": {},
   "source": [
    "# Data processing with average daily gas and electricity\n",
    "\n",
    "- load \"raw dataset\", this is based on Eoghan's notebook. this dataset contains each day's average hourly energy use. \n",
    "\n",
    "- compare the average value from \"raw dataset\" with benchmark (result is electricity are reasonable, but gas use is odd)\n",
    "\n",
    "- check and deal with outliers of gas\n",
    "\n",
    "- check and deal with 0 and nan value of gas \n",
    "\n",
    "after above step, we get a reasonable gas use, so we can get a \"reasonable\" dataset, named it by \"original\"\n",
    "\n",
    "- check missing date (missing rows) during the whole datatime period\n",
    "\n",
    "- imputed missing rows and its data by KNN, get imputed results \n",
    "\n",
    "- select a whole year (365 days) data from imputated results for use. (because we will use annual income to calculate energy poverty, so here we need a one year data)\n",
    "\n",
    "- check the average gas and electricity use results in the selected data, comapre it with \"original\" dataset and benchmark. \n",
    "\n"
   ]
  },
  {
   "cell_type": "markdown",
   "metadata": {},
   "source": [
    "# check  average hourly gas and electricy"
   ]
  },
  {
   "cell_type": "code",
   "execution_count": 3,
   "metadata": {},
   "outputs": [
    {
     "data": {
      "text/html": [
       "<div>\n",
       "<style scoped>\n",
       "    .dataframe tbody tr th:only-of-type {\n",
       "        vertical-align: middle;\n",
       "    }\n",
       "\n",
       "    .dataframe tbody tr th {\n",
       "        vertical-align: top;\n",
       "    }\n",
       "\n",
       "    .dataframe thead th {\n",
       "        text-align: right;\n",
       "    }\n",
       "</style>\n",
       "<table border=\"1\" class=\"dataframe\">\n",
       "  <thead>\n",
       "    <tr style=\"text-align: right;\">\n",
       "      <th></th>\n",
       "      <th>household_id</th>\n",
       "      <th>datetime</th>\n",
       "      <th>maxtemp</th>\n",
       "      <th>mintemp</th>\n",
       "      <th>conditions</th>\n",
       "      <th>day_of_week</th>\n",
       "      <th>is_weekend</th>\n",
       "      <th>is_bank_holiday</th>\n",
       "      <th>mean_rounded_gas_pulse</th>\n",
       "      <th>mean_rounded_electric_combined</th>\n",
       "    </tr>\n",
       "  </thead>\n",
       "  <tbody>\n",
       "    <tr>\n",
       "      <th>0</th>\n",
       "      <td>100</td>\n",
       "      <td>2017-03-07</td>\n",
       "      <td>10.0</td>\n",
       "      <td>4.0</td>\n",
       "      <td>Chance of Rain</td>\n",
       "      <td>1.0</td>\n",
       "      <td>False</td>\n",
       "      <td>False</td>\n",
       "      <td>5277.0</td>\n",
       "      <td>343.0</td>\n",
       "    </tr>\n",
       "    <tr>\n",
       "      <th>1</th>\n",
       "      <td>100</td>\n",
       "      <td>2017-03-08</td>\n",
       "      <td>11.0</td>\n",
       "      <td>5.0</td>\n",
       "      <td>Chance of Rain</td>\n",
       "      <td>2.0</td>\n",
       "      <td>False</td>\n",
       "      <td>False</td>\n",
       "      <td>6832.0</td>\n",
       "      <td>253.0</td>\n",
       "    </tr>\n",
       "    <tr>\n",
       "      <th>2</th>\n",
       "      <td>100</td>\n",
       "      <td>2017-03-09</td>\n",
       "      <td>11.0</td>\n",
       "      <td>3.0</td>\n",
       "      <td>Chance of Rain</td>\n",
       "      <td>3.0</td>\n",
       "      <td>False</td>\n",
       "      <td>False</td>\n",
       "      <td>1283.0</td>\n",
       "      <td>203.0</td>\n",
       "    </tr>\n",
       "    <tr>\n",
       "      <th>3</th>\n",
       "      <td>100</td>\n",
       "      <td>2017-03-10</td>\n",
       "      <td>10.0</td>\n",
       "      <td>7.0</td>\n",
       "      <td>Overcast</td>\n",
       "      <td>4.0</td>\n",
       "      <td>False</td>\n",
       "      <td>False</td>\n",
       "      <td>4168.0</td>\n",
       "      <td>222.0</td>\n",
       "    </tr>\n",
       "    <tr>\n",
       "      <th>4</th>\n",
       "      <td>100</td>\n",
       "      <td>2017-03-11</td>\n",
       "      <td>13.0</td>\n",
       "      <td>6.0</td>\n",
       "      <td>Chance of Rain</td>\n",
       "      <td>5.0</td>\n",
       "      <td>True</td>\n",
       "      <td>False</td>\n",
       "      <td>1264.0</td>\n",
       "      <td>243.0</td>\n",
       "    </tr>\n",
       "    <tr>\n",
       "      <th>5</th>\n",
       "      <td>100</td>\n",
       "      <td>2017-03-12</td>\n",
       "      <td>11.0</td>\n",
       "      <td>4.0</td>\n",
       "      <td>Clear</td>\n",
       "      <td>6.0</td>\n",
       "      <td>True</td>\n",
       "      <td>False</td>\n",
       "      <td>3855.0</td>\n",
       "      <td>324.0</td>\n",
       "    </tr>\n",
       "    <tr>\n",
       "      <th>6</th>\n",
       "      <td>100</td>\n",
       "      <td>2017-03-13</td>\n",
       "      <td>12.0</td>\n",
       "      <td>9.0</td>\n",
       "      <td>Partly Cloudy</td>\n",
       "      <td>0.0</td>\n",
       "      <td>False</td>\n",
       "      <td>False</td>\n",
       "      <td>1106.0</td>\n",
       "      <td>231.0</td>\n",
       "    </tr>\n",
       "    <tr>\n",
       "      <th>7</th>\n",
       "      <td>100</td>\n",
       "      <td>2017-03-14</td>\n",
       "      <td>12.0</td>\n",
       "      <td>5.0</td>\n",
       "      <td>Partly Cloudy</td>\n",
       "      <td>1.0</td>\n",
       "      <td>False</td>\n",
       "      <td>False</td>\n",
       "      <td>1643.0</td>\n",
       "      <td>223.0</td>\n",
       "    </tr>\n",
       "    <tr>\n",
       "      <th>8</th>\n",
       "      <td>100</td>\n",
       "      <td>2017-03-15</td>\n",
       "      <td>13.0</td>\n",
       "      <td>8.0</td>\n",
       "      <td>Mostly Cloudy</td>\n",
       "      <td>2.0</td>\n",
       "      <td>False</td>\n",
       "      <td>False</td>\n",
       "      <td>3339.0</td>\n",
       "      <td>248.0</td>\n",
       "    </tr>\n",
       "    <tr>\n",
       "      <th>9</th>\n",
       "      <td>100</td>\n",
       "      <td>2017-03-16</td>\n",
       "      <td>12.0</td>\n",
       "      <td>3.0</td>\n",
       "      <td>Chance of Rain</td>\n",
       "      <td>3.0</td>\n",
       "      <td>False</td>\n",
       "      <td>False</td>\n",
       "      <td>6467.0</td>\n",
       "      <td>222.0</td>\n",
       "    </tr>\n",
       "    <tr>\n",
       "      <th>10</th>\n",
       "      <td>100</td>\n",
       "      <td>2017-03-17</td>\n",
       "      <td>10.0</td>\n",
       "      <td>7.0</td>\n",
       "      <td>Rain</td>\n",
       "      <td>4.0</td>\n",
       "      <td>False</td>\n",
       "      <td>False</td>\n",
       "      <td>6444.0</td>\n",
       "      <td>231.0</td>\n",
       "    </tr>\n",
       "    <tr>\n",
       "      <th>11</th>\n",
       "      <td>100</td>\n",
       "      <td>2017-03-18</td>\n",
       "      <td>11.0</td>\n",
       "      <td>8.0</td>\n",
       "      <td>Rain</td>\n",
       "      <td>5.0</td>\n",
       "      <td>True</td>\n",
       "      <td>False</td>\n",
       "      <td>3070.0</td>\n",
       "      <td>238.0</td>\n",
       "    </tr>\n",
       "    <tr>\n",
       "      <th>12</th>\n",
       "      <td>100</td>\n",
       "      <td>2017-03-19</td>\n",
       "      <td>12.0</td>\n",
       "      <td>4.0</td>\n",
       "      <td>Chance of Rain</td>\n",
       "      <td>6.0</td>\n",
       "      <td>True</td>\n",
       "      <td>False</td>\n",
       "      <td>1668.0</td>\n",
       "      <td>257.0</td>\n",
       "    </tr>\n",
       "    <tr>\n",
       "      <th>13</th>\n",
       "      <td>100</td>\n",
       "      <td>2017-03-20</td>\n",
       "      <td>8.0</td>\n",
       "      <td>1.0</td>\n",
       "      <td>Snow</td>\n",
       "      <td>0.0</td>\n",
       "      <td>False</td>\n",
       "      <td>False</td>\n",
       "      <td>11236.0</td>\n",
       "      <td>352.0</td>\n",
       "    </tr>\n",
       "    <tr>\n",
       "      <th>14</th>\n",
       "      <td>100</td>\n",
       "      <td>2017-03-21</td>\n",
       "      <td>7.0</td>\n",
       "      <td>-1.0</td>\n",
       "      <td>Partly Cloudy</td>\n",
       "      <td>1.0</td>\n",
       "      <td>False</td>\n",
       "      <td>False</td>\n",
       "      <td>13917.0</td>\n",
       "      <td>260.0</td>\n",
       "    </tr>\n",
       "  </tbody>\n",
       "</table>\n",
       "</div>"
      ],
      "text/plain": [
       "    household_id    datetime  maxtemp  mintemp      conditions  day_of_week  \\\n",
       "0            100  2017-03-07     10.0      4.0  Chance of Rain          1.0   \n",
       "1            100  2017-03-08     11.0      5.0  Chance of Rain          2.0   \n",
       "2            100  2017-03-09     11.0      3.0  Chance of Rain          3.0   \n",
       "3            100  2017-03-10     10.0      7.0        Overcast          4.0   \n",
       "4            100  2017-03-11     13.0      6.0  Chance of Rain          5.0   \n",
       "5            100  2017-03-12     11.0      4.0           Clear          6.0   \n",
       "6            100  2017-03-13     12.0      9.0   Partly Cloudy          0.0   \n",
       "7            100  2017-03-14     12.0      5.0   Partly Cloudy          1.0   \n",
       "8            100  2017-03-15     13.0      8.0   Mostly Cloudy          2.0   \n",
       "9            100  2017-03-16     12.0      3.0  Chance of Rain          3.0   \n",
       "10           100  2017-03-17     10.0      7.0            Rain          4.0   \n",
       "11           100  2017-03-18     11.0      8.0            Rain          5.0   \n",
       "12           100  2017-03-19     12.0      4.0  Chance of Rain          6.0   \n",
       "13           100  2017-03-20      8.0      1.0            Snow          0.0   \n",
       "14           100  2017-03-21      7.0     -1.0   Partly Cloudy          1.0   \n",
       "\n",
       "   is_weekend is_bank_holiday  mean_rounded_gas_pulse  \\\n",
       "0       False           False                  5277.0   \n",
       "1       False           False                  6832.0   \n",
       "2       False           False                  1283.0   \n",
       "3       False           False                  4168.0   \n",
       "4        True           False                  1264.0   \n",
       "5        True           False                  3855.0   \n",
       "6       False           False                  1106.0   \n",
       "7       False           False                  1643.0   \n",
       "8       False           False                  3339.0   \n",
       "9       False           False                  6467.0   \n",
       "10      False           False                  6444.0   \n",
       "11       True           False                  3070.0   \n",
       "12       True           False                  1668.0   \n",
       "13      False           False                 11236.0   \n",
       "14      False           False                 13917.0   \n",
       "\n",
       "    mean_rounded_electric_combined  \n",
       "0                            343.0  \n",
       "1                            253.0  \n",
       "2                            203.0  \n",
       "3                            222.0  \n",
       "4                            243.0  \n",
       "5                            324.0  \n",
       "6                            231.0  \n",
       "7                            223.0  \n",
       "8                            248.0  \n",
       "9                            222.0  \n",
       "10                           231.0  \n",
       "11                           238.0  \n",
       "12                           257.0  \n",
       "13                           352.0  \n",
       "14                           260.0  "
      ]
     },
     "execution_count": 3,
     "metadata": {},
     "output_type": "execute_result"
    }
   ],
   "source": [
    "#load daily energy use data based on results from EM's data preprocess script\n",
    "\n",
    "energy_use = pd.read_csv('daily_demand_and_weather.csv')\n",
    "energy_use.head(15)\n"
   ]
  },
  {
   "cell_type": "code",
   "execution_count": null,
   "metadata": {},
   "outputs": [
    {
     "name": "stdout",
     "output_type": "stream",
     "text": [
      "<class 'pandas.core.frame.DataFrame'>\n",
      "RangeIndex: 71606 entries, 0 to 71605\n",
      "Data columns (total 12 columns):\n",
      " #   Column                          Non-Null Count  Dtype         \n",
      "---  ------                          --------------  -----         \n",
      " 0   household_id                    71606 non-null  int64         \n",
      " 1   datetime                        71606 non-null  datetime64[ns]\n",
      " 2   maxtemp                         59439 non-null  float64       \n",
      " 3   mintemp                         59439 non-null  float64       \n",
      " 4   conditions                      59439 non-null  object        \n",
      " 5   day_of_week                     59439 non-null  float64       \n",
      " 6   is_weekend                      59439 non-null  object        \n",
      " 7   is_bank_holiday                 59439 non-null  object        \n",
      " 8   mean_rounded_gas_pulse          59841 non-null  float64       \n",
      " 9   mean_rounded_electric_combined  66661 non-null  float64       \n",
      " 10  year                            71606 non-null  int32         \n",
      " 11  month                           71606 non-null  int32         \n",
      "dtypes: datetime64[ns](1), float64(5), int32(2), int64(1), object(3)\n",
      "memory usage: 6.0+ MB\n"
     ]
    }
   ],
   "source": [
    "energy_use['datetime'] = pd.to_datetime(energy_use['datetime'])\n",
    "energy_use['year'] = pd.to_datetime(energy_use['datetime']).dt.year\n",
    "energy_use['month'] = pd.to_datetime(energy_use['datetime']).dt.month\n",
    "energy_use.info()"
   ]
  },
  {
   "cell_type": "markdown",
   "metadata": {},
   "source": [
    "# check average monthly and yearly total energy demand"
   ]
  },
  {
   "cell_type": "code",
   "execution_count": null,
   "metadata": {},
   "outputs": [
    {
     "data": {
      "text/html": [
       "<div>\n",
       "<style scoped>\n",
       "    .dataframe tbody tr th:only-of-type {\n",
       "        vertical-align: middle;\n",
       "    }\n",
       "\n",
       "    .dataframe tbody tr th {\n",
       "        vertical-align: top;\n",
       "    }\n",
       "\n",
       "    .dataframe thead th {\n",
       "        text-align: right;\n",
       "    }\n",
       "</style>\n",
       "<table border=\"1\" class=\"dataframe\">\n",
       "  <thead>\n",
       "    <tr style=\"text-align: right;\">\n",
       "      <th></th>\n",
       "      <th>mean_rounded_gas_pulse</th>\n",
       "      <th>mean_rounded_electric_combined</th>\n",
       "    </tr>\n",
       "    <tr>\n",
       "      <th>month</th>\n",
       "      <th></th>\n",
       "      <th></th>\n",
       "    </tr>\n",
       "  </thead>\n",
       "  <tbody>\n",
       "    <tr>\n",
       "      <th>1</th>\n",
       "      <td>6942.190936</td>\n",
       "      <td>426.068660</td>\n",
       "    </tr>\n",
       "    <tr>\n",
       "      <th>2</th>\n",
       "      <td>8355.007614</td>\n",
       "      <td>410.420634</td>\n",
       "    </tr>\n",
       "    <tr>\n",
       "      <th>3</th>\n",
       "      <td>6555.932330</td>\n",
       "      <td>400.290306</td>\n",
       "    </tr>\n",
       "    <tr>\n",
       "      <th>4</th>\n",
       "      <td>5166.905042</td>\n",
       "      <td>352.550013</td>\n",
       "    </tr>\n",
       "    <tr>\n",
       "      <th>5</th>\n",
       "      <td>2754.103287</td>\n",
       "      <td>322.973836</td>\n",
       "    </tr>\n",
       "    <tr>\n",
       "      <th>6</th>\n",
       "      <td>1971.955325</td>\n",
       "      <td>314.749609</td>\n",
       "    </tr>\n",
       "    <tr>\n",
       "      <th>7</th>\n",
       "      <td>2518.209081</td>\n",
       "      <td>324.970523</td>\n",
       "    </tr>\n",
       "    <tr>\n",
       "      <th>8</th>\n",
       "      <td>2693.767107</td>\n",
       "      <td>346.724219</td>\n",
       "    </tr>\n",
       "    <tr>\n",
       "      <th>9</th>\n",
       "      <td>3718.398145</td>\n",
       "      <td>351.165017</td>\n",
       "    </tr>\n",
       "    <tr>\n",
       "      <th>10</th>\n",
       "      <td>4598.287596</td>\n",
       "      <td>363.151096</td>\n",
       "    </tr>\n",
       "    <tr>\n",
       "      <th>11</th>\n",
       "      <td>6585.826583</td>\n",
       "      <td>400.131968</td>\n",
       "    </tr>\n",
       "    <tr>\n",
       "      <th>12</th>\n",
       "      <td>6543.770239</td>\n",
       "      <td>428.187786</td>\n",
       "    </tr>\n",
       "  </tbody>\n",
       "</table>\n",
       "</div>"
      ],
      "text/plain": [
       "       mean_rounded_gas_pulse  mean_rounded_electric_combined\n",
       "month                                                        \n",
       "1                 6942.190936                      426.068660\n",
       "2                 8355.007614                      410.420634\n",
       "3                 6555.932330                      400.290306\n",
       "4                 5166.905042                      352.550013\n",
       "5                 2754.103287                      322.973836\n",
       "6                 1971.955325                      314.749609\n",
       "7                 2518.209081                      324.970523\n",
       "8                 2693.767107                      346.724219\n",
       "9                 3718.398145                      351.165017\n",
       "10                4598.287596                      363.151096\n",
       "11                6585.826583                      400.131968\n",
       "12                6543.770239                      428.187786"
      ]
     },
     "execution_count": 1843,
     "metadata": {},
     "output_type": "execute_result"
    }
   ],
   "source": [
    "# check average of gas_pulse and electric_combined for each month\n",
    "energy_use.groupby(by=['month'])[['mean_rounded_gas_pulse','mean_rounded_electric_combined']].mean()"
   ]
  },
  {
   "cell_type": "code",
   "execution_count": null,
   "metadata": {},
   "outputs": [
    {
     "data": {
      "text/plain": [
       "mean_rounded_gas_pulse            5129.363948\n",
       "mean_rounded_electric_combined     372.756754\n",
       "dtype: float64"
      ]
     },
     "execution_count": 1844,
     "metadata": {},
     "output_type": "execute_result"
    }
   ],
   "source": [
    "# average of gas_pulse and electric_combined for all dataset\n",
    "energy_use[['mean_rounded_gas_pulse','mean_rounded_electric_combined']].mean()"
   ]
  },
  {
   "cell_type": "markdown",
   "metadata": {},
   "source": [
    "-  compare to the benchmark: \n",
    "\n",
    "Becnmark (Average Energy Use Scottland) https://great-home.co.uk/average-energy-consumption-calculator-scotland/ \n",
    "\n",
    "Gas: annual 14,400 kWh, daily 39 kWh, so hourly is 1.625 kWh (1626 watt hour)\n",
    "\n",
    "Electricity: annual 3,200 kWh, daily 9 kWh, hourly is 0.375 kWh (375 watt hour)\n",
    "\n",
    "- conclusion\n",
    "\n",
    "the results of gas (5129) is odd and much higher than benchmark (1626)\n",
    "\n",
    "the result of electricity (372.7) seems to be reasonable, close to benchmark (375)"
   ]
  },
  {
   "cell_type": "markdown",
   "metadata": {},
   "source": [
    "# since the only gas value is odd, we need to deal with it"
   ]
  },
  {
   "cell_type": "code",
   "execution_count": null,
   "metadata": {},
   "outputs": [],
   "source": [
    "# save electrcity use, in order to not be affected by dealing with gas use\n",
    "original = energy_use.copy()"
   ]
  },
  {
   "cell_type": "markdown",
   "metadata": {},
   "source": [
    "# quickly check the outliers of gas"
   ]
  },
  {
   "cell_type": "markdown",
   "metadata": {},
   "source": [
    "we can see obvious outliers on gas, so we assume that if we deal with that outliers, the average value could be reasonable to benchmark"
   ]
  },
  {
   "cell_type": "code",
   "execution_count": null,
   "metadata": {},
   "outputs": [],
   "source": [
    "# because 33kWh to 38 kWh daily gas use in winter is the normal range in the UK, we need to find the extremly outliers in our dataset\n",
    "# yearly benchmark of gas is 1626\n",
    "\n",
    "# find extremly outliers, when the value is higher than the 38 kwh *1.5 = 57  , set this outliers to be 'extreme_outliers'\n",
    "energy_use['mean_rounded_gas_pulse'] = energy_use['mean_rounded_gas_pulse'].apply(lambda x: 'extreme_outliers' if x > 5700 else x )\n",
    "\n",
    "# drop the rows with 'extreme_outliers', to not affect the other data\n",
    "energy_use = energy_use[energy_use['mean_rounded_gas_pulse'] != 'extreme_outliers']"
   ]
  },
  {
   "cell_type": "code",
   "execution_count": null,
   "metadata": {},
   "outputs": [
    {
     "name": "stdout",
     "output_type": "stream",
     "text": [
      "upper limit = 7232.5\n"
     ]
    }
   ],
   "source": [
    "# deal with uplimit outliers of gas\n",
    "\n",
    "# Calculate the first and third quartiles\n",
    "Q1 = energy_use['mean_rounded_gas_pulse'].quantile(0.25)\n",
    "Q3 = energy_use['mean_rounded_gas_pulse'].quantile(0.75)\n",
    "IQR = Q3 - Q1\n",
    "\n",
    "# Define the upper limit for outliers\n",
    "upper_limit = Q3 + 1.5 * IQR\n",
    "print(f'upper limit = {upper_limit}')\n",
    "\n",
    "# Function to adjust values\n",
    "def adjust_values(x):\n",
    "    if x < 0:\n",
    "        return 0\n",
    "    elif x > upper_limit:\n",
    "        return 'outliers'  # Fill in the blank with the a value 'outliers'\n",
    "    else:\n",
    "        return x\n",
    "\n",
    "# Apply the function to the column\n",
    "energy_use['mean_rounded_gas_pulse'] = energy_use['mean_rounded_gas_pulse'].apply(adjust_values)\n",
    "\n",
    "# in the meantime, we can also adjust the electricity consumption values <0 to 0\n",
    "energy_use['mean_rounded_electric_combined'] = energy_use['mean_rounded_electric_combined'].apply(\n",
    "    lambda x: 0 if x < 0 else x)"
   ]
  },
  {
   "cell_type": "code",
   "execution_count": null,
   "metadata": {},
   "outputs": [],
   "source": [
    "# drop the rows with 'extreme_outliers', to not affect the other data\n",
    "energy_use = energy_use[energy_use['mean_rounded_gas_pulse'] != 'outliers']"
   ]
  },
  {
   "cell_type": "markdown",
   "metadata": {},
   "source": [
    "now we check the montly average and yearly average value again"
   ]
  },
  {
   "cell_type": "code",
   "execution_count": null,
   "metadata": {},
   "outputs": [
    {
     "data": {
      "text/html": [
       "<div>\n",
       "<style scoped>\n",
       "    .dataframe tbody tr th:only-of-type {\n",
       "        vertical-align: middle;\n",
       "    }\n",
       "\n",
       "    .dataframe tbody tr th {\n",
       "        vertical-align: top;\n",
       "    }\n",
       "\n",
       "    .dataframe thead th {\n",
       "        text-align: right;\n",
       "    }\n",
       "</style>\n",
       "<table border=\"1\" class=\"dataframe\">\n",
       "  <thead>\n",
       "    <tr style=\"text-align: right;\">\n",
       "      <th></th>\n",
       "      <th>mean_rounded_gas_pulse</th>\n",
       "    </tr>\n",
       "    <tr>\n",
       "      <th>month</th>\n",
       "      <th></th>\n",
       "    </tr>\n",
       "  </thead>\n",
       "  <tbody>\n",
       "    <tr>\n",
       "      <th>1</th>\n",
       "      <td>3301.910328</td>\n",
       "    </tr>\n",
       "    <tr>\n",
       "      <th>2</th>\n",
       "      <td>3141.557373</td>\n",
       "    </tr>\n",
       "    <tr>\n",
       "      <th>3</th>\n",
       "      <td>3111.825062</td>\n",
       "    </tr>\n",
       "    <tr>\n",
       "      <th>4</th>\n",
       "      <td>2564.288869</td>\n",
       "    </tr>\n",
       "    <tr>\n",
       "      <th>5</th>\n",
       "      <td>1742.219939</td>\n",
       "    </tr>\n",
       "    <tr>\n",
       "      <th>6</th>\n",
       "      <td>1403.296687</td>\n",
       "    </tr>\n",
       "    <tr>\n",
       "      <th>7</th>\n",
       "      <td>1388.875140</td>\n",
       "    </tr>\n",
       "    <tr>\n",
       "      <th>8</th>\n",
       "      <td>1427.258966</td>\n",
       "    </tr>\n",
       "    <tr>\n",
       "      <th>9</th>\n",
       "      <td>1781.256665</td>\n",
       "    </tr>\n",
       "    <tr>\n",
       "      <th>10</th>\n",
       "      <td>2319.825218</td>\n",
       "    </tr>\n",
       "    <tr>\n",
       "      <th>11</th>\n",
       "      <td>3115.637925</td>\n",
       "    </tr>\n",
       "    <tr>\n",
       "      <th>12</th>\n",
       "      <td>3050.697674</td>\n",
       "    </tr>\n",
       "  </tbody>\n",
       "</table>\n",
       "</div>"
      ],
      "text/plain": [
       "       mean_rounded_gas_pulse\n",
       "month                        \n",
       "1                 3301.910328\n",
       "2                 3141.557373\n",
       "3                 3111.825062\n",
       "4                 2564.288869\n",
       "5                 1742.219939\n",
       "6                 1403.296687\n",
       "7                 1388.875140\n",
       "8                 1427.258966\n",
       "9                 1781.256665\n",
       "10                2319.825218\n",
       "11                3115.637925\n",
       "12                3050.697674"
      ]
     },
     "execution_count": 1849,
     "metadata": {},
     "output_type": "execute_result"
    }
   ],
   "source": [
    "# check average of gas_pulse and electric_combined for each month\n",
    "energy_use['month'] = pd.to_datetime(month['datetime']).dt.month\n",
    "energy_use.groupby(by=['month'])[['mean_rounded_gas_pulse']].mean()\n"
   ]
  },
  {
   "cell_type": "code",
   "execution_count": null,
   "metadata": {},
   "outputs": [
    {
     "data": {
      "text/plain": [
       "mean_rounded_gas_pulse    2375.342083\n",
       "dtype: float64"
      ]
     },
     "execution_count": 1850,
     "metadata": {},
     "output_type": "execute_result"
    }
   ],
   "source": [
    "# average of gas_pulse and electric_combined for all dataset\n",
    "energy_use[['mean_rounded_gas_pulse']].mean()"
   ]
  },
  {
   "cell_type": "markdown",
   "metadata": {},
   "source": [
    "we can see that the yearly gas average (2890) is lower than previous one (5129), but still higher than benchmark (1626)\n",
    "\n",
    "so we still need to process with gas data, this time we need to consider that how many homes did not use gas on a particulary day\n",
    "\n",
    "which on that condition, the value should be 0"
   ]
  },
  {
   "cell_type": "code",
   "execution_count": null,
   "metadata": {},
   "outputs": [
    {
     "data": {
      "text/plain": [
       "year  month\n",
       "2016  8        0\n",
       "      9        0\n",
       "      10       0\n",
       "      11       0\n",
       "      12       0\n",
       "2017  1        0\n",
       "      2        0\n",
       "      3        0\n",
       "      4        0\n",
       "      5        0\n",
       "      6        0\n",
       "      7        0\n",
       "      8        0\n",
       "      9        1\n",
       "      10       0\n",
       "      11       0\n",
       "      12       0\n",
       "2018  1        0\n",
       "      2        0\n",
       "      3        0\n",
       "      4        0\n",
       "      5        0\n",
       "      6        0\n",
       "Name: mean_rounded_gas_pulse, dtype: int64"
      ]
     },
     "execution_count": 1851,
     "metadata": {},
     "output_type": "execute_result"
    }
   ],
   "source": [
    "# we assume that 0 values are homes that did not use gas, so let us check how many data points are 0\n",
    "zero_gas = energy_use.groupby(by=['year','month'])['mean_rounded_gas_pulse'].apply(lambda x: (x == 0).sum())\n",
    "zero_gas"
   ]
  },
  {
   "cell_type": "markdown",
   "metadata": {},
   "source": [
    "we can see that there is only 1 value is 0\n",
    "\n",
    "so we wonder that perhaps it is becasue the sensors did not collect the data successfully, so the values were shown to be NaN?\n",
    "\n",
    "therefore, we need to check the missing value of gas"
   ]
  },
  {
   "cell_type": "code",
   "execution_count": null,
   "metadata": {},
   "outputs": [
    {
     "data": {
      "text/plain": [
       "year  month\n",
       "2016  8          36\n",
       "      9          63\n",
       "      10         45\n",
       "      11        100\n",
       "      12        125\n",
       "2017  1         149\n",
       "      2         117\n",
       "      3         135\n",
       "      4         209\n",
       "      5         239\n",
       "      6         400\n",
       "      7         581\n",
       "      8         539\n",
       "      9         736\n",
       "      10        758\n",
       "      11        784\n",
       "      12       1007\n",
       "2018  1         953\n",
       "      2         758\n",
       "      3         920\n",
       "      4        1072\n",
       "      5        1203\n",
       "      6         836\n",
       "Name: mean_rounded_gas_pulse, dtype: int64"
      ]
     },
     "execution_count": 1852,
     "metadata": {},
     "output_type": "execute_result"
    }
   ],
   "source": [
    "# check the missing gas value of each month\n",
    "missing_gas = energy_use.groupby(by=['year','month'])['mean_rounded_gas_pulse'].apply(lambda x: x.isnull().sum())\n",
    "missing_gas"
   ]
  },
  {
   "cell_type": "markdown",
   "metadata": {},
   "source": [
    "we can see there are lots lot missing value in gas which could be the reason of why average gas are always much higher than benchmark.\n",
    "\n",
    "here we considered those NaN values as the home did not use gas on that day. \n",
    "\n",
    "so we set this NaN value to be 0."
   ]
  },
  {
   "cell_type": "code",
   "execution_count": null,
   "metadata": {},
   "outputs": [],
   "source": [
    "# set the missing gas value to 0\n",
    "energy_use['mean_rounded_gas_pulse'] = energy_use['mean_rounded_gas_pulse'].fillna(0)"
   ]
  },
  {
   "cell_type": "code",
   "execution_count": null,
   "metadata": {},
   "outputs": [
    {
     "data": {
      "text/html": [
       "<div>\n",
       "<style scoped>\n",
       "    .dataframe tbody tr th:only-of-type {\n",
       "        vertical-align: middle;\n",
       "    }\n",
       "\n",
       "    .dataframe tbody tr th {\n",
       "        vertical-align: top;\n",
       "    }\n",
       "\n",
       "    .dataframe thead th {\n",
       "        text-align: right;\n",
       "    }\n",
       "</style>\n",
       "<table border=\"1\" class=\"dataframe\">\n",
       "  <thead>\n",
       "    <tr style=\"text-align: right;\">\n",
       "      <th></th>\n",
       "      <th>mean_rounded_gas_pulse</th>\n",
       "    </tr>\n",
       "    <tr>\n",
       "      <th>month</th>\n",
       "      <th></th>\n",
       "    </tr>\n",
       "  </thead>\n",
       "  <tbody>\n",
       "    <tr>\n",
       "      <th>1</th>\n",
       "      <td>2528.376063</td>\n",
       "    </tr>\n",
       "    <tr>\n",
       "      <th>2</th>\n",
       "      <td>2581.707536</td>\n",
       "    </tr>\n",
       "    <tr>\n",
       "      <th>3</th>\n",
       "      <td>2558.296915</td>\n",
       "    </tr>\n",
       "    <tr>\n",
       "      <th>4</th>\n",
       "      <td>2091.035153</td>\n",
       "    </tr>\n",
       "    <tr>\n",
       "      <th>5</th>\n",
       "      <td>1426.686009</td>\n",
       "    </tr>\n",
       "    <tr>\n",
       "      <th>6</th>\n",
       "      <td>1165.795016</td>\n",
       "    </tr>\n",
       "    <tr>\n",
       "      <th>7</th>\n",
       "      <td>1047.964090</td>\n",
       "    </tr>\n",
       "    <tr>\n",
       "      <th>8</th>\n",
       "      <td>1151.216616</td>\n",
       "    </tr>\n",
       "    <tr>\n",
       "      <th>9</th>\n",
       "      <td>1351.539251</td>\n",
       "    </tr>\n",
       "    <tr>\n",
       "      <th>10</th>\n",
       "      <td>1842.668545</td>\n",
       "    </tr>\n",
       "    <tr>\n",
       "      <th>11</th>\n",
       "      <td>2421.703956</td>\n",
       "    </tr>\n",
       "    <tr>\n",
       "      <th>12</th>\n",
       "      <td>2302.400867</td>\n",
       "    </tr>\n",
       "  </tbody>\n",
       "</table>\n",
       "</div>"
      ],
      "text/plain": [
       "       mean_rounded_gas_pulse\n",
       "month                        \n",
       "1                 2528.376063\n",
       "2                 2581.707536\n",
       "3                 2558.296915\n",
       "4                 2091.035153\n",
       "5                 1426.686009\n",
       "6                 1165.795016\n",
       "7                 1047.964090\n",
       "8                 1151.216616\n",
       "9                 1351.539251\n",
       "10                1842.668545\n",
       "11                2421.703956\n",
       "12                2302.400867"
      ]
     },
     "execution_count": 1854,
     "metadata": {},
     "output_type": "execute_result"
    }
   ],
   "source": [
    "# check average of gas_pulse and electric_combined for each month\n",
    "energy_use.groupby(by=['month'])[['mean_rounded_gas_pulse']].mean()\n"
   ]
  },
  {
   "cell_type": "code",
   "execution_count": null,
   "metadata": {},
   "outputs": [
    {
     "data": {
      "text/plain": [
       "mean_rounded_gas_pulse    1900.806082\n",
       "dtype: float64"
      ]
     },
     "execution_count": 1855,
     "metadata": {},
     "output_type": "execute_result"
    }
   ],
   "source": [
    "# average of gas_pulse and electric_combined for all dataset\n",
    "energy_use[['mean_rounded_gas_pulse']].mean()"
   ]
  },
  {
   "cell_type": "markdown",
   "metadata": {},
   "source": [
    "we can see that the yearly gas average (1900) is lower than previous one , but close to benchmark (1626). so we have succefully deal with the gas data."
   ]
  },
  {
   "cell_type": "markdown",
   "metadata": {},
   "source": [
    "put the column of this gas data in to the original dataset"
   ]
  },
  {
   "cell_type": "code",
   "execution_count": null,
   "metadata": {},
   "outputs": [],
   "source": [
    "# put the column of this gas data in to the original dataset\n",
    "original['mean_rounded_gas_pulse'] = energy_use['mean_rounded_gas_pulse']"
   ]
  },
  {
   "cell_type": "code",
   "execution_count": null,
   "metadata": {},
   "outputs": [
    {
     "data": {
      "text/plain": [
       "mean_rounded_gas_pulse            1900.806082\n",
       "mean_rounded_electric_combined     372.756754\n",
       "dtype: float64"
      ]
     },
     "execution_count": 1859,
     "metadata": {},
     "output_type": "execute_result"
    }
   ],
   "source": [
    "# check the final result of average gas and electricity data\n",
    "original[['mean_rounded_gas_pulse','mean_rounded_electric_combined']].mean()"
   ]
  },
  {
   "cell_type": "markdown",
   "metadata": {},
   "source": [
    "we can see, this result is both clost to benchmark."
   ]
  },
  {
   "cell_type": "code",
   "execution_count": null,
   "metadata": {},
   "outputs": [
    {
     "data": {
      "text/plain": [
       "<Axes: xlabel='month'>"
      ]
     },
     "execution_count": 1864,
     "metadata": {},
     "output_type": "execute_result"
    },
    {
     "data": {
      "image/png": "[encoded data removed]",
      "text/plain": [
       "<Figure size 640x480 with 2 Axes>"
      ]
     },
     "metadata": {},
     "output_type": "display_data"
    }
   ],
   "source": [
    "# average value of each month\n",
    "monthly_energy = original.copy().groupby(by=['month'])[['mean_rounded_gas_pulse','mean_rounded_electric_combined']].mean()\n",
    "monthly_energy.plot(secondary_y='mean_rounded_electric_combined')"
   ]
  },
  {
   "cell_type": "code",
   "execution_count": null,
   "metadata": {},
   "outputs": [
    {
     "data": {
      "text/html": [
       "<div>\n",
       "<style scoped>\n",
       "    .dataframe tbody tr th:only-of-type {\n",
       "        vertical-align: middle;\n",
       "    }\n",
       "\n",
       "    .dataframe tbody tr th {\n",
       "        vertical-align: top;\n",
       "    }\n",
       "\n",
       "    .dataframe thead th {\n",
       "        text-align: right;\n",
       "    }\n",
       "</style>\n",
       "<table border=\"1\" class=\"dataframe\">\n",
       "  <thead>\n",
       "    <tr style=\"text-align: right;\">\n",
       "      <th></th>\n",
       "      <th>homeid</th>\n",
       "      <th>datetime</th>\n",
       "      <th>maxtemp</th>\n",
       "      <th>mintemp</th>\n",
       "      <th>conditions</th>\n",
       "      <th>day_of_week</th>\n",
       "      <th>is_weekend</th>\n",
       "      <th>is_bank_holiday</th>\n",
       "      <th>mean_rounded_gas_pulse</th>\n",
       "      <th>mean_rounded_electric_combined</th>\n",
       "      <th>year</th>\n",
       "      <th>month</th>\n",
       "    </tr>\n",
       "  </thead>\n",
       "  <tbody>\n",
       "    <tr>\n",
       "      <th>0</th>\n",
       "      <td>100</td>\n",
       "      <td>2017-03-07</td>\n",
       "      <td>10.0</td>\n",
       "      <td>4.0</td>\n",
       "      <td>Chance of Rain</td>\n",
       "      <td>1.0</td>\n",
       "      <td>False</td>\n",
       "      <td>False</td>\n",
       "      <td>5277.0</td>\n",
       "      <td>343.0</td>\n",
       "      <td>2017</td>\n",
       "      <td>3</td>\n",
       "    </tr>\n",
       "    <tr>\n",
       "      <th>1</th>\n",
       "      <td>100</td>\n",
       "      <td>2017-03-08</td>\n",
       "      <td>11.0</td>\n",
       "      <td>5.0</td>\n",
       "      <td>Chance of Rain</td>\n",
       "      <td>2.0</td>\n",
       "      <td>False</td>\n",
       "      <td>False</td>\n",
       "      <td>NaN</td>\n",
       "      <td>253.0</td>\n",
       "      <td>2017</td>\n",
       "      <td>3</td>\n",
       "    </tr>\n",
       "    <tr>\n",
       "      <th>2</th>\n",
       "      <td>100</td>\n",
       "      <td>2017-03-09</td>\n",
       "      <td>11.0</td>\n",
       "      <td>3.0</td>\n",
       "      <td>Chance of Rain</td>\n",
       "      <td>3.0</td>\n",
       "      <td>False</td>\n",
       "      <td>False</td>\n",
       "      <td>1283.0</td>\n",
       "      <td>203.0</td>\n",
       "      <td>2017</td>\n",
       "      <td>3</td>\n",
       "    </tr>\n",
       "    <tr>\n",
       "      <th>3</th>\n",
       "      <td>100</td>\n",
       "      <td>2017-03-10</td>\n",
       "      <td>10.0</td>\n",
       "      <td>7.0</td>\n",
       "      <td>Overcast</td>\n",
       "      <td>4.0</td>\n",
       "      <td>False</td>\n",
       "      <td>False</td>\n",
       "      <td>4168.0</td>\n",
       "      <td>222.0</td>\n",
       "      <td>2017</td>\n",
       "      <td>3</td>\n",
       "    </tr>\n",
       "    <tr>\n",
       "      <th>4</th>\n",
       "      <td>100</td>\n",
       "      <td>2017-03-11</td>\n",
       "      <td>13.0</td>\n",
       "      <td>6.0</td>\n",
       "      <td>Chance of Rain</td>\n",
       "      <td>5.0</td>\n",
       "      <td>True</td>\n",
       "      <td>False</td>\n",
       "      <td>1264.0</td>\n",
       "      <td>243.0</td>\n",
       "      <td>2017</td>\n",
       "      <td>3</td>\n",
       "    </tr>\n",
       "    <tr>\n",
       "      <th>...</th>\n",
       "      <td>...</td>\n",
       "      <td>...</td>\n",
       "      <td>...</td>\n",
       "      <td>...</td>\n",
       "      <td>...</td>\n",
       "      <td>...</td>\n",
       "      <td>...</td>\n",
       "      <td>...</td>\n",
       "      <td>...</td>\n",
       "      <td>...</td>\n",
       "      <td>...</td>\n",
       "      <td>...</td>\n",
       "    </tr>\n",
       "    <tr>\n",
       "      <th>71601</th>\n",
       "      <td>99</td>\n",
       "      <td>2018-06-26</td>\n",
       "      <td>16.0</td>\n",
       "      <td>11.0</td>\n",
       "      <td>Partly Cloudy</td>\n",
       "      <td>1.0</td>\n",
       "      <td>False</td>\n",
       "      <td>False</td>\n",
       "      <td>941.0</td>\n",
       "      <td>331.0</td>\n",
       "      <td>2018</td>\n",
       "      <td>6</td>\n",
       "    </tr>\n",
       "    <tr>\n",
       "      <th>71602</th>\n",
       "      <td>99</td>\n",
       "      <td>2018-06-27</td>\n",
       "      <td>22.0</td>\n",
       "      <td>12.0</td>\n",
       "      <td>Partly Cloudy</td>\n",
       "      <td>2.0</td>\n",
       "      <td>False</td>\n",
       "      <td>False</td>\n",
       "      <td>907.0</td>\n",
       "      <td>391.0</td>\n",
       "      <td>2018</td>\n",
       "      <td>6</td>\n",
       "    </tr>\n",
       "    <tr>\n",
       "      <th>71603</th>\n",
       "      <td>99</td>\n",
       "      <td>2018-06-28</td>\n",
       "      <td>28.0</td>\n",
       "      <td>11.0</td>\n",
       "      <td>Clear</td>\n",
       "      <td>3.0</td>\n",
       "      <td>False</td>\n",
       "      <td>False</td>\n",
       "      <td>702.0</td>\n",
       "      <td>360.0</td>\n",
       "      <td>2018</td>\n",
       "      <td>6</td>\n",
       "    </tr>\n",
       "    <tr>\n",
       "      <th>71604</th>\n",
       "      <td>99</td>\n",
       "      <td>2018-06-29</td>\n",
       "      <td>16.0</td>\n",
       "      <td>9.0</td>\n",
       "      <td>Partly Cloudy</td>\n",
       "      <td>4.0</td>\n",
       "      <td>False</td>\n",
       "      <td>False</td>\n",
       "      <td>895.0</td>\n",
       "      <td>500.0</td>\n",
       "      <td>2018</td>\n",
       "      <td>6</td>\n",
       "    </tr>\n",
       "    <tr>\n",
       "      <th>71605</th>\n",
       "      <td>99</td>\n",
       "      <td>2018-06-30</td>\n",
       "      <td>21.0</td>\n",
       "      <td>9.0</td>\n",
       "      <td>Clear</td>\n",
       "      <td>5.0</td>\n",
       "      <td>True</td>\n",
       "      <td>False</td>\n",
       "      <td>0.0</td>\n",
       "      <td>117.0</td>\n",
       "      <td>2018</td>\n",
       "      <td>6</td>\n",
       "    </tr>\n",
       "  </tbody>\n",
       "</table>\n",
       "<p>71606 rows × 12 columns</p>\n",
       "</div>"
      ],
      "text/plain": [
       "       homeid   datetime  maxtemp  mintemp      conditions  day_of_week  \\\n",
       "0         100 2017-03-07     10.0      4.0  Chance of Rain          1.0   \n",
       "1         100 2017-03-08     11.0      5.0  Chance of Rain          2.0   \n",
       "2         100 2017-03-09     11.0      3.0  Chance of Rain          3.0   \n",
       "3         100 2017-03-10     10.0      7.0        Overcast          4.0   \n",
       "4         100 2017-03-11     13.0      6.0  Chance of Rain          5.0   \n",
       "...       ...        ...      ...      ...             ...          ...   \n",
       "71601      99 2018-06-26     16.0     11.0   Partly Cloudy          1.0   \n",
       "71602      99 2018-06-27     22.0     12.0   Partly Cloudy          2.0   \n",
       "71603      99 2018-06-28     28.0     11.0           Clear          3.0   \n",
       "71604      99 2018-06-29     16.0      9.0   Partly Cloudy          4.0   \n",
       "71605      99 2018-06-30     21.0      9.0           Clear          5.0   \n",
       "\n",
       "      is_weekend is_bank_holiday  mean_rounded_gas_pulse  \\\n",
       "0          False           False                  5277.0   \n",
       "1          False           False                     NaN   \n",
       "2          False           False                  1283.0   \n",
       "3          False           False                  4168.0   \n",
       "4           True           False                  1264.0   \n",
       "...          ...             ...                     ...   \n",
       "71601      False           False                   941.0   \n",
       "71602      False           False                   907.0   \n",
       "71603      False           False                   702.0   \n",
       "71604      False           False                   895.0   \n",
       "71605       True           False                     0.0   \n",
       "\n",
       "       mean_rounded_electric_combined  year  month  \n",
       "0                               343.0  2017      3  \n",
       "1                               253.0  2017      3  \n",
       "2                               203.0  2017      3  \n",
       "3                               222.0  2017      3  \n",
       "4                               243.0  2017      3  \n",
       "...                               ...   ...    ...  \n",
       "71601                           331.0  2018      6  \n",
       "71602                           391.0  2018      6  \n",
       "71603                           360.0  2018      6  \n",
       "71604                           500.0  2018      6  \n",
       "71605                           117.0  2018      6  \n",
       "\n",
       "[71606 rows x 12 columns]"
      ]
     },
     "execution_count": 1865,
     "metadata": {},
     "output_type": "execute_result"
    }
   ],
   "source": [
    "original.rename(columns={'household_id':'homeid'}, inplace=True)\n",
    "original"
   ]
  },
  {
   "cell_type": "markdown",
   "metadata": {},
   "source": [
    "the data pre processing of outliers is done."
   ]
  },
  {
   "cell_type": "markdown",
   "metadata": {},
   "source": [
    "# dealing with the missing value during the period of min max datetime"
   ]
  },
  {
   "cell_type": "code",
   "execution_count": null,
   "metadata": {},
   "outputs": [],
   "source": [
    "# name the dataset as energy_use\n",
    "energy_use = original.copy()"
   ]
  },
  {
   "cell_type": "code",
   "execution_count": null,
   "metadata": {},
   "outputs": [
    {
     "name": "stdout",
     "output_type": "stream",
     "text": [
      "start date: 2016-08-10 00:00:00\n",
      "end date: 2018-06-30 00:00:00\n",
      "total days: 690\n",
      "total homes: 255\n",
      "total rows shold be: 175950\n",
      "but actual total rows: 71606\n"
     ]
    }
   ],
   "source": [
    "# check how many data should be in period\n",
    "print('start date:', energy_use['datetime'].min())\n",
    "print('end date:', energy_use['datetime'].max())\n",
    "\n",
    "days = energy_use['datetime'].unique()\n",
    "print('total days:', len(days))\n",
    "\n",
    "homes = energy_use['homeid'].unique()\n",
    "print('total homes:', len(homes))\n",
    "\n",
    "total_rows = len(days) * len(homes)\n",
    "\n",
    "print('total rows shold be:', total_rows)\n",
    "print('but actual total rows:', len(energy_use))"
   ]
  },
  {
   "cell_type": "markdown",
   "metadata": {},
   "source": [
    "# Generate dataset that have completed period of datetime\n"
   ]
  },
  {
   "cell_type": "code",
   "execution_count": null,
   "metadata": {},
   "outputs": [
    {
     "name": "stdout",
     "output_type": "stream",
     "text": [
      "number of days: (690,)\n",
      "number of households: (255,)\n"
     ]
    },
    {
     "data": {
      "text/plain": [
       "(175950, 2)"
      ]
     },
     "execution_count": 1869,
     "metadata": {},
     "output_type": "execute_result"
    }
   ],
   "source": [
    "# generate a new dataframe with all the days in the period and all the households\n",
    "# this will allow us to fill in missing values\n",
    "\n",
    "# get all the days in the period\n",
    "all_days = pd.date_range(start=energy_use['datetime'].min(), end=energy_use['datetime'].max(), freq='D')\n",
    "print('number of days:', all_days.shape)\n",
    "\n",
    "# get all the households\n",
    "all_houses = energy_use['homeid'].unique()\n",
    "print('number of households:', all_houses.shape)\n",
    "\n",
    "# create a new dataframe with all the days and all the households, set index to homeid\n",
    "all_combinations = pd.MultiIndex.from_product([all_houses, all_days], names=['homeid','datetime'])\n",
    "all_combinations = pd.DataFrame(index=all_combinations).reset_index()\n",
    "all_combinations.shape"
   ]
  },
  {
   "cell_type": "code",
   "execution_count": null,
   "metadata": {},
   "outputs": [
    {
     "data": {
      "text/plain": [
       "(175950, 12)"
      ]
     },
     "execution_count": 1870,
     "metadata": {},
     "output_type": "execute_result"
    }
   ],
   "source": [
    "# Now merge the all_combinations with the original energy use data\n",
    "complete_data = pd.merge(all_combinations, energy_use, how='left', on=['homeid','datetime'])\n",
    "complete_data.shape"
   ]
  },
  {
   "cell_type": "code",
   "execution_count": null,
   "metadata": {},
   "outputs": [
    {
     "data": {
      "text/plain": [
       "homeid                                 0\n",
       "datetime                               0\n",
       "maxtemp                           116511\n",
       "mintemp                           116511\n",
       "conditions                        116511\n",
       "day_of_week                            0\n",
       "is_weekend                        116511\n",
       "is_bank_holiday                   116511\n",
       "mean_rounded_gas_pulse            117059\n",
       "mean_rounded_electric_combined    109289\n",
       "year                                   0\n",
       "month                                  0\n",
       "dtype: int64"
      ]
     },
     "execution_count": 1871,
     "metadata": {},
     "output_type": "execute_result"
    }
   ],
   "source": [
    "complete_data['year'] = complete_data['datetime'].dt.year\n",
    "complete_data['month'] = complete_data['datetime'].dt.month\n",
    "complete_data['day_of_week'] = complete_data['datetime'].dt.dayofweek\n",
    "\n",
    "# check for missing values\n",
    "complete_data.isnull().sum()"
   ]
  },
  {
   "cell_type": "code",
   "execution_count": null,
   "metadata": {},
   "outputs": [],
   "source": [
    "# drop the columns that have missing value, and are not needed\n",
    "complete_data.drop(columns=['maxtemp','mintemp','is_weekend','is_bank_holiday','conditions'], inplace=True)"
   ]
  },
  {
   "cell_type": "code",
   "execution_count": null,
   "metadata": {},
   "outputs": [
    {
     "data": {
      "text/html": [
       "<div>\n",
       "<style scoped>\n",
       "    .dataframe tbody tr th:only-of-type {\n",
       "        vertical-align: middle;\n",
       "    }\n",
       "\n",
       "    .dataframe tbody tr th {\n",
       "        vertical-align: top;\n",
       "    }\n",
       "\n",
       "    .dataframe thead th {\n",
       "        text-align: right;\n",
       "    }\n",
       "</style>\n",
       "<table border=\"1\" class=\"dataframe\">\n",
       "  <thead>\n",
       "    <tr style=\"text-align: right;\">\n",
       "      <th></th>\n",
       "      <th>mean_rounded_gas_pulse</th>\n",
       "      <th>mean_rounded_electric_combined</th>\n",
       "    </tr>\n",
       "    <tr>\n",
       "      <th>month</th>\n",
       "      <th></th>\n",
       "      <th></th>\n",
       "    </tr>\n",
       "  </thead>\n",
       "  <tbody>\n",
       "    <tr>\n",
       "      <th>1</th>\n",
       "      <td>2528.376063</td>\n",
       "      <td>426.068660</td>\n",
       "    </tr>\n",
       "    <tr>\n",
       "      <th>2</th>\n",
       "      <td>2581.707536</td>\n",
       "      <td>410.420634</td>\n",
       "    </tr>\n",
       "    <tr>\n",
       "      <th>3</th>\n",
       "      <td>2558.296915</td>\n",
       "      <td>400.290306</td>\n",
       "    </tr>\n",
       "    <tr>\n",
       "      <th>4</th>\n",
       "      <td>2091.035153</td>\n",
       "      <td>352.550013</td>\n",
       "    </tr>\n",
       "    <tr>\n",
       "      <th>5</th>\n",
       "      <td>1426.686009</td>\n",
       "      <td>322.973836</td>\n",
       "    </tr>\n",
       "    <tr>\n",
       "      <th>6</th>\n",
       "      <td>1165.795016</td>\n",
       "      <td>314.749609</td>\n",
       "    </tr>\n",
       "    <tr>\n",
       "      <th>7</th>\n",
       "      <td>1047.964090</td>\n",
       "      <td>324.970523</td>\n",
       "    </tr>\n",
       "    <tr>\n",
       "      <th>8</th>\n",
       "      <td>1151.216616</td>\n",
       "      <td>346.724219</td>\n",
       "    </tr>\n",
       "    <tr>\n",
       "      <th>9</th>\n",
       "      <td>1351.539251</td>\n",
       "      <td>351.165017</td>\n",
       "    </tr>\n",
       "    <tr>\n",
       "      <th>10</th>\n",
       "      <td>1842.668545</td>\n",
       "      <td>363.151096</td>\n",
       "    </tr>\n",
       "    <tr>\n",
       "      <th>11</th>\n",
       "      <td>2421.703956</td>\n",
       "      <td>400.131968</td>\n",
       "    </tr>\n",
       "    <tr>\n",
       "      <th>12</th>\n",
       "      <td>2302.400867</td>\n",
       "      <td>428.187786</td>\n",
       "    </tr>\n",
       "  </tbody>\n",
       "</table>\n",
       "</div>"
      ],
      "text/plain": [
       "       mean_rounded_gas_pulse  mean_rounded_electric_combined\n",
       "month                                                        \n",
       "1                 2528.376063                      426.068660\n",
       "2                 2581.707536                      410.420634\n",
       "3                 2558.296915                      400.290306\n",
       "4                 2091.035153                      352.550013\n",
       "5                 1426.686009                      322.973836\n",
       "6                 1165.795016                      314.749609\n",
       "7                 1047.964090                      324.970523\n",
       "8                 1151.216616                      346.724219\n",
       "9                 1351.539251                      351.165017\n",
       "10                1842.668545                      363.151096\n",
       "11                2421.703956                      400.131968\n",
       "12                2302.400867                      428.187786"
      ]
     },
     "execution_count": 1873,
     "metadata": {},
     "output_type": "execute_result"
    }
   ],
   "source": [
    "# check average of gas_pulse and electric_combined for each month in complete_data\n",
    "monthly_energy = complete_data.groupby(by=['month'])[['mean_rounded_gas_pulse','mean_rounded_electric_combined']].mean()\n",
    "monthly_energy\n"
   ]
  },
  {
   "cell_type": "markdown",
   "metadata": {},
   "source": [
    "# divded data into 12 dataframes by their months\n",
    "we need to filling the missing value of each months. so firstly we need to divided dataset by each month, then using KNN method to impute missing values"
   ]
  },
  {
   "cell_type": "code",
   "execution_count": null,
   "metadata": {},
   "outputs": [
    {
     "data": {
      "text/html": [
       "<div>\n",
       "<style scoped>\n",
       "    .dataframe tbody tr th:only-of-type {\n",
       "        vertical-align: middle;\n",
       "    }\n",
       "\n",
       "    .dataframe tbody tr th {\n",
       "        vertical-align: top;\n",
       "    }\n",
       "\n",
       "    .dataframe thead th {\n",
       "        text-align: right;\n",
       "    }\n",
       "</style>\n",
       "<table border=\"1\" class=\"dataframe\">\n",
       "  <thead>\n",
       "    <tr style=\"text-align: right;\">\n",
       "      <th></th>\n",
       "      <th>homeid</th>\n",
       "      <th>datetime</th>\n",
       "      <th>day_of_week</th>\n",
       "      <th>mean_rounded_gas_pulse</th>\n",
       "      <th>mean_rounded_electric_combined</th>\n",
       "      <th>year</th>\n",
       "      <th>month</th>\n",
       "    </tr>\n",
       "  </thead>\n",
       "  <tbody>\n",
       "    <tr>\n",
       "      <th>144</th>\n",
       "      <td>100</td>\n",
       "      <td>2017-01-01</td>\n",
       "      <td>6</td>\n",
       "      <td>NaN</td>\n",
       "      <td>NaN</td>\n",
       "      <td>2017</td>\n",
       "      <td>1</td>\n",
       "    </tr>\n",
       "    <tr>\n",
       "      <th>145</th>\n",
       "      <td>100</td>\n",
       "      <td>2017-01-02</td>\n",
       "      <td>0</td>\n",
       "      <td>NaN</td>\n",
       "      <td>NaN</td>\n",
       "      <td>2017</td>\n",
       "      <td>1</td>\n",
       "    </tr>\n",
       "    <tr>\n",
       "      <th>146</th>\n",
       "      <td>100</td>\n",
       "      <td>2017-01-03</td>\n",
       "      <td>1</td>\n",
       "      <td>NaN</td>\n",
       "      <td>NaN</td>\n",
       "      <td>2017</td>\n",
       "      <td>1</td>\n",
       "    </tr>\n",
       "    <tr>\n",
       "      <th>147</th>\n",
       "      <td>100</td>\n",
       "      <td>2017-01-04</td>\n",
       "      <td>2</td>\n",
       "      <td>NaN</td>\n",
       "      <td>NaN</td>\n",
       "      <td>2017</td>\n",
       "      <td>1</td>\n",
       "    </tr>\n",
       "    <tr>\n",
       "      <th>148</th>\n",
       "      <td>100</td>\n",
       "      <td>2017-01-05</td>\n",
       "      <td>3</td>\n",
       "      <td>NaN</td>\n",
       "      <td>NaN</td>\n",
       "      <td>2017</td>\n",
       "      <td>1</td>\n",
       "    </tr>\n",
       "  </tbody>\n",
       "</table>\n",
       "</div>"
      ],
      "text/plain": [
       "     homeid   datetime  day_of_week  mean_rounded_gas_pulse  \\\n",
       "144     100 2017-01-01            6                     NaN   \n",
       "145     100 2017-01-02            0                     NaN   \n",
       "146     100 2017-01-03            1                     NaN   \n",
       "147     100 2017-01-04            2                     NaN   \n",
       "148     100 2017-01-05            3                     NaN   \n",
       "\n",
       "     mean_rounded_electric_combined  year  month  \n",
       "144                             NaN  2017      1  \n",
       "145                             NaN  2017      1  \n",
       "146                             NaN  2017      1  \n",
       "147                             NaN  2017      1  \n",
       "148                             NaN  2017      1  "
      ]
     },
     "execution_count": 1874,
     "metadata": {},
     "output_type": "execute_result"
    }
   ],
   "source": [
    "# divided complete_data into 12 individual dataframes by each month\n",
    "months = [complete_data[complete_data['month'] == i] for i in range(1, 13)]\n",
    "\n",
    "# check data for month 1\n",
    "months[0].head()\n"
   ]
  },
  {
   "cell_type": "code",
   "execution_count": null,
   "metadata": {},
   "outputs": [
    {
     "name": "stdout",
     "output_type": "stream",
     "text": [
      "length of each month:\n",
      "month 1 : 15810\n",
      "month 2 : 14280\n",
      "month 3 : 15810\n",
      "month 4 : 15300\n",
      "month 5 : 15810\n",
      "month 6 : 15300\n",
      "month 7 : 7905\n",
      "month 8 : 13515\n",
      "month 9 : 15300\n",
      "month 10 : 15810\n",
      "month 11 : 15300\n",
      "month 12 : 15810\n",
      "total length of all months: 175950\n"
     ]
    }
   ],
   "source": [
    "# validation, check the length of each month, and the sum of length should be equal to the length of complete_data 175950\n",
    "\n",
    "# check each month's length, and the sum of length should be equal to the length of complete_data\n",
    "print('length of each month:')\n",
    "for i, month in enumerate(months):\n",
    "    print('month', i+1, ':', len(month))\n",
    "\n",
    "print('total length of all months:', sum([len(month) for month in months]))"
   ]
  },
  {
   "cell_type": "markdown",
   "metadata": {},
   "source": [
    "# Fill the missing data by each month's dataframe\n",
    "\n",
    "intend to use Mutiple Imputation method (KNN imputation method have high calculation cost)\n",
    "\n",
    " filling missing value according to other columns such as conditions (weather), day of week, is weekend, is bank holiday, max and min temp, heating type...\n",
    " "
   ]
  },
  {
   "cell_type": "markdown",
   "metadata": {},
   "source": [
    "Addtional data: 'hometype'\n"
   ]
  },
  {
   "cell_type": "code",
   "execution_count": null,
   "metadata": {},
   "outputs": [],
   "source": [
    "# find home type data\n",
    "home_type = pd.read_csv('../data/home.csv')\n",
    "home_type = home_type[['homeid', 'hometype']]"
   ]
  },
  {
   "cell_type": "code",
   "execution_count": null,
   "metadata": {},
   "outputs": [
    {
     "data": {
      "text/html": [
       "<div>\n",
       "<style scoped>\n",
       "    .dataframe tbody tr th:only-of-type {\n",
       "        vertical-align: middle;\n",
       "    }\n",
       "\n",
       "    .dataframe tbody tr th {\n",
       "        vertical-align: top;\n",
       "    }\n",
       "\n",
       "    .dataframe thead th {\n",
       "        text-align: right;\n",
       "    }\n",
       "</style>\n",
       "<table border=\"1\" class=\"dataframe\">\n",
       "  <thead>\n",
       "    <tr style=\"text-align: right;\">\n",
       "      <th></th>\n",
       "      <th>homeid</th>\n",
       "      <th>datetime</th>\n",
       "      <th>day_of_week</th>\n",
       "      <th>mean_rounded_gas_pulse</th>\n",
       "      <th>mean_rounded_electric_combined</th>\n",
       "      <th>year</th>\n",
       "      <th>month</th>\n",
       "      <th>hometype</th>\n",
       "    </tr>\n",
       "  </thead>\n",
       "  <tbody>\n",
       "    <tr>\n",
       "      <th>0</th>\n",
       "      <td>100</td>\n",
       "      <td>2017-01-01</td>\n",
       "      <td>6</td>\n",
       "      <td>NaN</td>\n",
       "      <td>NaN</td>\n",
       "      <td>2017</td>\n",
       "      <td>1</td>\n",
       "      <td>flat</td>\n",
       "    </tr>\n",
       "    <tr>\n",
       "      <th>1</th>\n",
       "      <td>100</td>\n",
       "      <td>2017-01-02</td>\n",
       "      <td>0</td>\n",
       "      <td>NaN</td>\n",
       "      <td>NaN</td>\n",
       "      <td>2017</td>\n",
       "      <td>1</td>\n",
       "      <td>flat</td>\n",
       "    </tr>\n",
       "    <tr>\n",
       "      <th>2</th>\n",
       "      <td>100</td>\n",
       "      <td>2017-01-03</td>\n",
       "      <td>1</td>\n",
       "      <td>NaN</td>\n",
       "      <td>NaN</td>\n",
       "      <td>2017</td>\n",
       "      <td>1</td>\n",
       "      <td>flat</td>\n",
       "    </tr>\n",
       "    <tr>\n",
       "      <th>3</th>\n",
       "      <td>100</td>\n",
       "      <td>2017-01-04</td>\n",
       "      <td>2</td>\n",
       "      <td>NaN</td>\n",
       "      <td>NaN</td>\n",
       "      <td>2017</td>\n",
       "      <td>1</td>\n",
       "      <td>flat</td>\n",
       "    </tr>\n",
       "    <tr>\n",
       "      <th>4</th>\n",
       "      <td>100</td>\n",
       "      <td>2017-01-05</td>\n",
       "      <td>3</td>\n",
       "      <td>NaN</td>\n",
       "      <td>NaN</td>\n",
       "      <td>2017</td>\n",
       "      <td>1</td>\n",
       "      <td>flat</td>\n",
       "    </tr>\n",
       "  </tbody>\n",
       "</table>\n",
       "</div>"
      ],
      "text/plain": [
       "   homeid   datetime  day_of_week  mean_rounded_gas_pulse  \\\n",
       "0     100 2017-01-01            6                     NaN   \n",
       "1     100 2017-01-02            0                     NaN   \n",
       "2     100 2017-01-03            1                     NaN   \n",
       "3     100 2017-01-04            2                     NaN   \n",
       "4     100 2017-01-05            3                     NaN   \n",
       "\n",
       "   mean_rounded_electric_combined  year  month hometype  \n",
       "0                             NaN  2017      1     flat  \n",
       "1                             NaN  2017      1     flat  \n",
       "2                             NaN  2017      1     flat  \n",
       "3                             NaN  2017      1     flat  \n",
       "4                             NaN  2017      1     flat  "
      ]
     },
     "execution_count": 1877,
     "metadata": {},
     "output_type": "execute_result"
    }
   ],
   "source": [
    "# merge home_type with each month data\n",
    "for i, month in enumerate(months):\n",
    "    months[i] = pd.merge(month, home_type, how='left', on='homeid')\n",
    "\n",
    "# check data for month 1\n",
    "months[0].head()"
   ]
  },
  {
   "cell_type": "markdown",
   "metadata": {},
   "source": [
    "# Multiple Imputation for daily gas and electricity  missing data of each \"month\" dataframe"
   ]
  },
  {
   "cell_type": "code",
   "execution_count": null,
   "metadata": {},
   "outputs": [],
   "source": [
    "from sklearn.experimental import enable_iterative_imputer\n",
    "from sklearn.impute import IterativeImputer\n",
    "from sklearn.preprocessing import LabelEncoder"
   ]
  },
  {
   "cell_type": "code",
   "execution_count": null,
   "metadata": {},
   "outputs": [],
   "source": [
    "# define a function for encoding categorical features\n",
    "\n",
    "def encode_categorical_features(df, column_names):\n",
    "    label_encoder = LabelEncoder()\n",
    "    for column in column_names:\n",
    "        # Check if the column is in the DataFrame and is categorical\n",
    "        if column in df.columns and df[column].dtype == 'object':\n",
    "            # Convert to string type in case of mixed types\n",
    "            df[column] = label_encoder.fit_transform(df[column].astype(str))\n",
    "        else:\n",
    "            # no need to encode\n",
    "            pass\n",
    "    return df"
   ]
  },
  {
   "cell_type": "code",
   "execution_count": null,
   "metadata": {},
   "outputs": [],
   "source": [
    "# apply the function to each month's dataframe\n",
    "for i in range(12):  # assming dataframes indexed from 0 to 11\n",
    "    column_names = list(months[i].columns)\n",
    "    months[i] = encode_categorical_features(months[i], column_names) "
   ]
  },
  {
   "cell_type": "code",
   "execution_count": null,
   "metadata": {},
   "outputs": [
    {
     "data": {
      "text/html": [
       "<div>\n",
       "<style scoped>\n",
       "    .dataframe tbody tr th:only-of-type {\n",
       "        vertical-align: middle;\n",
       "    }\n",
       "\n",
       "    .dataframe tbody tr th {\n",
       "        vertical-align: top;\n",
       "    }\n",
       "\n",
       "    .dataframe thead th {\n",
       "        text-align: right;\n",
       "    }\n",
       "</style>\n",
       "<table border=\"1\" class=\"dataframe\">\n",
       "  <thead>\n",
       "    <tr style=\"text-align: right;\">\n",
       "      <th></th>\n",
       "      <th>homeid</th>\n",
       "      <th>datetime</th>\n",
       "      <th>day_of_week</th>\n",
       "      <th>mean_rounded_gas_pulse</th>\n",
       "      <th>mean_rounded_electric_combined</th>\n",
       "      <th>year</th>\n",
       "      <th>month</th>\n",
       "      <th>hometype</th>\n",
       "    </tr>\n",
       "  </thead>\n",
       "  <tbody>\n",
       "    <tr>\n",
       "      <th>0</th>\n",
       "      <td>100</td>\n",
       "      <td>2017-01-01</td>\n",
       "      <td>6</td>\n",
       "      <td>NaN</td>\n",
       "      <td>NaN</td>\n",
       "      <td>2017</td>\n",
       "      <td>1</td>\n",
       "      <td>0</td>\n",
       "    </tr>\n",
       "    <tr>\n",
       "      <th>1</th>\n",
       "      <td>100</td>\n",
       "      <td>2017-01-02</td>\n",
       "      <td>0</td>\n",
       "      <td>NaN</td>\n",
       "      <td>NaN</td>\n",
       "      <td>2017</td>\n",
       "      <td>1</td>\n",
       "      <td>0</td>\n",
       "    </tr>\n",
       "    <tr>\n",
       "      <th>2</th>\n",
       "      <td>100</td>\n",
       "      <td>2017-01-03</td>\n",
       "      <td>1</td>\n",
       "      <td>NaN</td>\n",
       "      <td>NaN</td>\n",
       "      <td>2017</td>\n",
       "      <td>1</td>\n",
       "      <td>0</td>\n",
       "    </tr>\n",
       "    <tr>\n",
       "      <th>3</th>\n",
       "      <td>100</td>\n",
       "      <td>2017-01-04</td>\n",
       "      <td>2</td>\n",
       "      <td>NaN</td>\n",
       "      <td>NaN</td>\n",
       "      <td>2017</td>\n",
       "      <td>1</td>\n",
       "      <td>0</td>\n",
       "    </tr>\n",
       "    <tr>\n",
       "      <th>4</th>\n",
       "      <td>100</td>\n",
       "      <td>2017-01-05</td>\n",
       "      <td>3</td>\n",
       "      <td>NaN</td>\n",
       "      <td>NaN</td>\n",
       "      <td>2017</td>\n",
       "      <td>1</td>\n",
       "      <td>0</td>\n",
       "    </tr>\n",
       "  </tbody>\n",
       "</table>\n",
       "</div>"
      ],
      "text/plain": [
       "   homeid   datetime  day_of_week  mean_rounded_gas_pulse  \\\n",
       "0     100 2017-01-01            6                     NaN   \n",
       "1     100 2017-01-02            0                     NaN   \n",
       "2     100 2017-01-03            1                     NaN   \n",
       "3     100 2017-01-04            2                     NaN   \n",
       "4     100 2017-01-05            3                     NaN   \n",
       "\n",
       "   mean_rounded_electric_combined  year  month  hometype  \n",
       "0                             NaN  2017      1         0  \n",
       "1                             NaN  2017      1         0  \n",
       "2                             NaN  2017      1         0  \n",
       "3                             NaN  2017      1         0  \n",
       "4                             NaN  2017      1         0  "
      ]
     },
     "execution_count": 1881,
     "metadata": {},
     "output_type": "execute_result"
    }
   ],
   "source": [
    "# check the dataframes of month 1\n",
    "months[0].head()"
   ]
  },
  {
   "cell_type": "code",
   "execution_count": null,
   "metadata": {},
   "outputs": [
    {
     "data": {
      "text/plain": [
       "homeid                                0\n",
       "datetime                              0\n",
       "day_of_week                           0\n",
       "mean_rounded_gas_pulse            11106\n",
       "mean_rounded_electric_combined     9489\n",
       "year                                  0\n",
       "month                                 0\n",
       "hometype                              0\n",
       "dtype: int64"
      ]
     },
     "execution_count": 1882,
     "metadata": {},
     "output_type": "execute_result"
    }
   ],
   "source": [
    "months[0].isnull().sum()"
   ]
  },
  {
   "cell_type": "markdown",
   "metadata": {},
   "source": [
    "# Imputation\n",
    "\n",
    "- KNN method\n",
    "\n",
    "KNN Imputation uses the k-nearest neighbors to impute missing values. The imputation is done based on the mean or median (or any other aggregate) of the k-nearest neighbors found in the training set. Each feature's missing value is imputed using the non-missing values that are closest to that record in Euclidean space."
   ]
  },
  {
   "cell_type": "code",
   "execution_count": null,
   "metadata": {},
   "outputs": [
    {
     "name": "stdout",
     "output_type": "stream",
     "text": [
      "Imputation completed for Month 1\n",
      "Imputation completed for Month 2\n",
      "Imputation completed for Month 3\n",
      "Imputation completed for Month 4\n",
      "Imputation completed for Month 5\n",
      "Imputation completed for Month 6\n",
      "Imputation completed for Month 7\n",
      "Imputation completed for Month 8\n",
      "Imputation completed for Month 9\n",
      "Imputation completed for Month 10\n",
      "Imputation completed for Month 11\n",
      "Imputation completed for Month 12\n"
     ]
    }
   ],
   "source": [
    "from sklearn.impute import KNNImputer\n",
    "\n",
    "#  'months' is a list containing each month's DataFrame\n",
    "# [month_1, month_2, ..., month_12]\n",
    "\n",
    "# Define the columns to impute\n",
    "columns_to_impute = ['mean_rounded_gas_pulse', 'mean_rounded_electric_combined']\n",
    "\n",
    "# Create an imputer object with a specific number of neighbors\n",
    "imputer = KNNImputer(n_neighbors=10, weights=\"distance\")\n",
    "\n",
    "# Loop through each DataFrame in the list\n",
    "for i in range(len(months)):\n",
    "    # Select only the columns that need imputation to avoid fitting the imputer to unnecessary data\n",
    "    df_subset = months[i][columns_to_impute]\n",
    "    \n",
    "    # Apply fit_transform to the subset and then assign the imputed data back to the original DataFrame\n",
    "    months[i][columns_to_impute] = imputer.fit_transform(df_subset)\n",
    "    \n",
    "    # Optional: Output to check progress\n",
    "    print(f\"Imputation completed for Month {i+1}\")\n"
   ]
  },
  {
   "cell_type": "code",
   "execution_count": null,
   "metadata": {},
   "outputs": [
    {
     "data": {
      "text/html": [
       "<div>\n",
       "<style scoped>\n",
       "    .dataframe tbody tr th:only-of-type {\n",
       "        vertical-align: middle;\n",
       "    }\n",
       "\n",
       "    .dataframe tbody tr th {\n",
       "        vertical-align: top;\n",
       "    }\n",
       "\n",
       "    .dataframe thead th {\n",
       "        text-align: right;\n",
       "    }\n",
       "</style>\n",
       "<table border=\"1\" class=\"dataframe\">\n",
       "  <thead>\n",
       "    <tr style=\"text-align: right;\">\n",
       "      <th></th>\n",
       "      <th>mean_rounded_gas_pulse</th>\n",
       "      <th>mean_rounded_electric_combined</th>\n",
       "    </tr>\n",
       "  </thead>\n",
       "  <tbody>\n",
       "    <tr>\n",
       "      <th>1</th>\n",
       "      <td>2586.759327</td>\n",
       "      <td>422.116535</td>\n",
       "    </tr>\n",
       "    <tr>\n",
       "      <th>2</th>\n",
       "      <td>2615.200340</td>\n",
       "      <td>416.742906</td>\n",
       "    </tr>\n",
       "    <tr>\n",
       "      <th>3</th>\n",
       "      <td>2604.266548</td>\n",
       "      <td>399.031551</td>\n",
       "    </tr>\n",
       "    <tr>\n",
       "      <th>4</th>\n",
       "      <td>2118.828973</td>\n",
       "      <td>348.847937</td>\n",
       "    </tr>\n",
       "    <tr>\n",
       "      <th>5</th>\n",
       "      <td>1433.623310</td>\n",
       "      <td>322.427827</td>\n",
       "    </tr>\n",
       "    <tr>\n",
       "      <th>6</th>\n",
       "      <td>1167.471543</td>\n",
       "      <td>322.825262</td>\n",
       "    </tr>\n",
       "    <tr>\n",
       "      <th>7</th>\n",
       "      <td>1049.054115</td>\n",
       "      <td>325.186205</td>\n",
       "    </tr>\n",
       "    <tr>\n",
       "      <th>8</th>\n",
       "      <td>1152.380097</td>\n",
       "      <td>346.717329</td>\n",
       "    </tr>\n",
       "    <tr>\n",
       "      <th>9</th>\n",
       "      <td>1356.361188</td>\n",
       "      <td>349.738826</td>\n",
       "    </tr>\n",
       "    <tr>\n",
       "      <th>10</th>\n",
       "      <td>1852.353849</td>\n",
       "      <td>360.489092</td>\n",
       "    </tr>\n",
       "    <tr>\n",
       "      <th>11</th>\n",
       "      <td>2463.831258</td>\n",
       "      <td>397.242282</td>\n",
       "    </tr>\n",
       "    <tr>\n",
       "      <th>12</th>\n",
       "      <td>2352.549585</td>\n",
       "      <td>439.350339</td>\n",
       "    </tr>\n",
       "  </tbody>\n",
       "</table>\n",
       "</div>"
      ],
      "text/plain": [
       "    mean_rounded_gas_pulse  mean_rounded_electric_combined\n",
       "1              2586.759327                      422.116535\n",
       "2              2615.200340                      416.742906\n",
       "3              2604.266548                      399.031551\n",
       "4              2118.828973                      348.847937\n",
       "5              1433.623310                      322.427827\n",
       "6              1167.471543                      322.825262\n",
       "7              1049.054115                      325.186205\n",
       "8              1152.380097                      346.717329\n",
       "9              1356.361188                      349.738826\n",
       "10             1852.353849                      360.489092\n",
       "11             2463.831258                      397.242282\n",
       "12             2352.549585                      439.350339"
      ]
     },
     "execution_count": 1884,
     "metadata": {},
     "output_type": "execute_result"
    }
   ],
   "source": [
    "# check average of gas_pulse and electric_combined for each month\n",
    "average_monthly_energy = [month[['mean_rounded_gas_pulse', 'mean_rounded_electric_combined']].mean() for month in months]\n",
    "average_monthly_energy = pd.DataFrame(average_monthly_energy, index=range(1,13))\n",
    "average_monthly_energy\n"
   ]
  },
  {
   "cell_type": "code",
   "execution_count": null,
   "metadata": {},
   "outputs": [
    {
     "data": {
      "text/plain": [
       "homeid                            0\n",
       "datetime                          0\n",
       "day_of_week                       0\n",
       "mean_rounded_gas_pulse            0\n",
       "mean_rounded_electric_combined    0\n",
       "year                              0\n",
       "month                             0\n",
       "hometype                          0\n",
       "dtype: int64"
      ]
     },
     "execution_count": 1885,
     "metadata": {},
     "output_type": "execute_result"
    }
   ],
   "source": [
    "# check the imputation result of dataframes of month 1\n",
    "months[0].isnull().sum()"
   ]
  },
  {
   "cell_type": "markdown",
   "metadata": {},
   "source": [
    "now the imputation work is finished for each of \"months\" data"
   ]
  },
  {
   "cell_type": "code",
   "execution_count": null,
   "metadata": {},
   "outputs": [
    {
     "name": "stdout",
     "output_type": "stream",
     "text": [
      "<class 'pandas.core.frame.DataFrame'>\n",
      "RangeIndex: 175950 entries, 0 to 175949\n",
      "Data columns (total 8 columns):\n",
      " #   Column                          Non-Null Count   Dtype         \n",
      "---  ------                          --------------   -----         \n",
      " 0   homeid                          175950 non-null  int64         \n",
      " 1   datetime                        175950 non-null  datetime64[ns]\n",
      " 2   day_of_week                     175950 non-null  int32         \n",
      " 3   mean_rounded_gas_pulse          175950 non-null  float64       \n",
      " 4   mean_rounded_electric_combined  175950 non-null  float64       \n",
      " 5   year                            175950 non-null  int32         \n",
      " 6   month                           175950 non-null  int32         \n",
      " 7   hometype                        175950 non-null  int32         \n",
      "dtypes: datetime64[ns](1), float64(2), int32(4), int64(1)\n",
      "memory usage: 8.1 MB\n"
     ]
    }
   ],
   "source": [
    "# combine all the 12 dataframes into one\n",
    "complete_data_imputed = pd.concat(months, ignore_index=True)\n",
    "complete_data_imputed.info()"
   ]
  },
  {
   "cell_type": "markdown",
   "metadata": {},
   "source": [
    "we have finished imputation work for each months, and get a completed dataframe"
   ]
  },
  {
   "cell_type": "code",
   "execution_count": null,
   "metadata": {},
   "outputs": [
    {
     "name": "stdout",
     "output_type": "stream",
     "text": [
      "start date: 2016-08-10 00:00:00\n",
      "end date: 2018-06-30 00:00:00\n",
      "total days: 690\n",
      "total homes: 255\n",
      "total rows shold be: 175950\n",
      "actual total rows: 175950\n"
     ]
    }
   ],
   "source": [
    "# check the date range of the complete_data_imputed\n",
    "# check time period\n",
    "print('start date:', complete_data_imputed['datetime'].min())\n",
    "print('end date:', complete_data_imputed['datetime'].max())\n",
    "\n",
    "days = complete_data_imputed['datetime'].unique()\n",
    "print('total days:', len(days))\n",
    "\n",
    "homes = complete_data_imputed['homeid'].unique()\n",
    "print('total homes:', len(homes))\n",
    "\n",
    "total_rows = len(days) * len(homes)\n",
    "\n",
    "print('total rows shold be:', total_rows)\n",
    "print('actual total rows:', len(complete_data_imputed))"
   ]
  },
  {
   "cell_type": "markdown",
   "metadata": {},
   "source": [
    "# select a full year data"
   ]
  },
  {
   "cell_type": "markdown",
   "metadata": {},
   "source": [
    "we need select a whole year 365 data points, because we calculate energy poverty by annual income."
   ]
  },
  {
   "cell_type": "code",
   "execution_count": null,
   "metadata": {},
   "outputs": [
    {
     "data": {
      "text/html": [
       "<div>\n",
       "<style scoped>\n",
       "    .dataframe tbody tr th:only-of-type {\n",
       "        vertical-align: middle;\n",
       "    }\n",
       "\n",
       "    .dataframe tbody tr th {\n",
       "        vertical-align: top;\n",
       "    }\n",
       "\n",
       "    .dataframe thead th {\n",
       "        text-align: right;\n",
       "    }\n",
       "</style>\n",
       "<table border=\"1\" class=\"dataframe\">\n",
       "  <thead>\n",
       "    <tr style=\"text-align: right;\">\n",
       "      <th></th>\n",
       "      <th>year</th>\n",
       "      <th>month</th>\n",
       "      <th>non_nan_gas</th>\n",
       "      <th>non_nan_electric</th>\n",
       "    </tr>\n",
       "  </thead>\n",
       "  <tbody>\n",
       "    <tr>\n",
       "      <th>0</th>\n",
       "      <td>2016</td>\n",
       "      <td>8</td>\n",
       "      <td>36</td>\n",
       "      <td>36</td>\n",
       "    </tr>\n",
       "    <tr>\n",
       "      <th>1</th>\n",
       "      <td>2016</td>\n",
       "      <td>9</td>\n",
       "      <td>90</td>\n",
       "      <td>90</td>\n",
       "    </tr>\n",
       "    <tr>\n",
       "      <th>2</th>\n",
       "      <td>2016</td>\n",
       "      <td>10</td>\n",
       "      <td>163</td>\n",
       "      <td>162</td>\n",
       "    </tr>\n",
       "    <tr>\n",
       "      <th>3</th>\n",
       "      <td>2016</td>\n",
       "      <td>11</td>\n",
       "      <td>293</td>\n",
       "      <td>249</td>\n",
       "    </tr>\n",
       "    <tr>\n",
       "      <th>4</th>\n",
       "      <td>2016</td>\n",
       "      <td>12</td>\n",
       "      <td>384</td>\n",
       "      <td>379</td>\n",
       "    </tr>\n",
       "    <tr>\n",
       "      <th>5</th>\n",
       "      <td>2017</td>\n",
       "      <td>1</td>\n",
       "      <td>522</td>\n",
       "      <td>572</td>\n",
       "    </tr>\n",
       "    <tr>\n",
       "      <th>6</th>\n",
       "      <td>2017</td>\n",
       "      <td>2</td>\n",
       "      <td>772</td>\n",
       "      <td>913</td>\n",
       "    </tr>\n",
       "    <tr>\n",
       "      <th>7</th>\n",
       "      <td>2017</td>\n",
       "      <td>3</td>\n",
       "      <td>1058</td>\n",
       "      <td>1268</td>\n",
       "    </tr>\n",
       "    <tr>\n",
       "      <th>8</th>\n",
       "      <td>2017</td>\n",
       "      <td>4</td>\n",
       "      <td>1189</td>\n",
       "      <td>1289</td>\n",
       "    </tr>\n",
       "    <tr>\n",
       "      <th>9</th>\n",
       "      <td>2017</td>\n",
       "      <td>5</td>\n",
       "      <td>1328</td>\n",
       "      <td>1328</td>\n",
       "    </tr>\n",
       "    <tr>\n",
       "      <th>10</th>\n",
       "      <td>2017</td>\n",
       "      <td>6</td>\n",
       "      <td>1540</td>\n",
       "      <td>1442</td>\n",
       "    </tr>\n",
       "    <tr>\n",
       "      <th>11</th>\n",
       "      <td>2017</td>\n",
       "      <td>7</td>\n",
       "      <td>2367</td>\n",
       "      <td>2239</td>\n",
       "    </tr>\n",
       "    <tr>\n",
       "      <th>12</th>\n",
       "      <td>2017</td>\n",
       "      <td>8</td>\n",
       "      <td>2937</td>\n",
       "      <td>2941</td>\n",
       "    </tr>\n",
       "    <tr>\n",
       "      <th>13</th>\n",
       "      <td>2017</td>\n",
       "      <td>9</td>\n",
       "      <td>3222</td>\n",
       "      <td>3346</td>\n",
       "    </tr>\n",
       "    <tr>\n",
       "      <th>14</th>\n",
       "      <td>2017</td>\n",
       "      <td>10</td>\n",
       "      <td>3741</td>\n",
       "      <td>4034</td>\n",
       "    </tr>\n",
       "    <tr>\n",
       "      <th>15</th>\n",
       "      <td>2017</td>\n",
       "      <td>11</td>\n",
       "      <td>3676</td>\n",
       "      <td>4684</td>\n",
       "    </tr>\n",
       "    <tr>\n",
       "      <th>16</th>\n",
       "      <td>2017</td>\n",
       "      <td>12</td>\n",
       "      <td>4231</td>\n",
       "      <td>5516</td>\n",
       "    </tr>\n",
       "    <tr>\n",
       "      <th>17</th>\n",
       "      <td>2018</td>\n",
       "      <td>1</td>\n",
       "      <td>4182</td>\n",
       "      <td>5749</td>\n",
       "    </tr>\n",
       "    <tr>\n",
       "      <th>18</th>\n",
       "      <td>2018</td>\n",
       "      <td>2</td>\n",
       "      <td>4138</td>\n",
       "      <td>5494</td>\n",
       "    </tr>\n",
       "    <tr>\n",
       "      <th>19</th>\n",
       "      <td>2018</td>\n",
       "      <td>3</td>\n",
       "      <td>4873</td>\n",
       "      <td>6417</td>\n",
       "    </tr>\n",
       "    <tr>\n",
       "      <th>20</th>\n",
       "      <td>2018</td>\n",
       "      <td>4</td>\n",
       "      <td>5752</td>\n",
       "      <td>6449</td>\n",
       "    </tr>\n",
       "    <tr>\n",
       "      <th>21</th>\n",
       "      <td>2018</td>\n",
       "      <td>5</td>\n",
       "      <td>6634</td>\n",
       "      <td>6469</td>\n",
       "    </tr>\n",
       "    <tr>\n",
       "      <th>22</th>\n",
       "      <td>2018</td>\n",
       "      <td>6</td>\n",
       "      <td>5763</td>\n",
       "      <td>5595</td>\n",
       "    </tr>\n",
       "  </tbody>\n",
       "</table>\n",
       "</div>"
      ],
      "text/plain": [
       "    year  month  non_nan_gas  non_nan_electric\n",
       "0   2016      8           36                36\n",
       "1   2016      9           90                90\n",
       "2   2016     10          163               162\n",
       "3   2016     11          293               249\n",
       "4   2016     12          384               379\n",
       "5   2017      1          522               572\n",
       "6   2017      2          772               913\n",
       "7   2017      3         1058              1268\n",
       "8   2017      4         1189              1289\n",
       "9   2017      5         1328              1328\n",
       "10  2017      6         1540              1442\n",
       "11  2017      7         2367              2239\n",
       "12  2017      8         2937              2941\n",
       "13  2017      9         3222              3346\n",
       "14  2017     10         3741              4034\n",
       "15  2017     11         3676              4684\n",
       "16  2017     12         4231              5516\n",
       "17  2018      1         4182              5749\n",
       "18  2018      2         4138              5494\n",
       "19  2018      3         4873              6417\n",
       "20  2018      4         5752              6449\n",
       "21  2018      5         6634              6469\n",
       "22  2018      6         5763              5595"
      ]
     },
     "execution_count": 1888,
     "metadata": {},
     "output_type": "execute_result"
    }
   ],
   "source": [
    "# check which period of a whole year 365 days, that most of homes have most of gas_pulse and electric_combined , have most no nan values\n",
    "\n",
    "original_data = complete_data.copy()\n",
    "\n",
    "# Group by year and month, and then apply a custom aggregation to count non-NaN entries\n",
    "monthly_data_availability = original_data.groupby(['year', 'month']).apply(lambda df: df[['mean_rounded_gas_pulse', 'mean_rounded_electric_combined']].notna().sum()).reset_index()\n",
    "\n",
    "# Rename columns for clarity\n",
    "monthly_data_availability.columns = ['year', 'month', 'non_nan_gas', 'non_nan_electric']\n",
    "monthly_data_availability"
   ]
  },
  {
   "cell_type": "markdown",
   "metadata": {},
   "source": [
    "we can see the period from 2017-6 to 2018-6 have most non nan values, which means they have most of non imputed data, so this period is ideal to use.\n",
    "\n",
    "then we will select the data in comleted imputed dataset from period from 2017-7 to 2018-6, total 12 months"
   ]
  },
  {
   "cell_type": "code",
   "execution_count": null,
   "metadata": {},
   "outputs": [],
   "source": [
    "# we need to select a whole year of data, because when calculate energy poverty, the income is annual one.\n",
    "\n",
    "data_select = complete_data_imputed[(complete_data_imputed['datetime'] >= '2017-07-01') & (complete_data_imputed['datetime'] < '2018-07-1')]"
   ]
  },
  {
   "cell_type": "code",
   "execution_count": null,
   "metadata": {},
   "outputs": [
    {
     "name": "stdout",
     "output_type": "stream",
     "text": [
      "start date: 2017-07-01 00:00:00\n",
      "end date: 2018-06-30 00:00:00\n",
      "total days: 365\n",
      "total homes: 255\n",
      "total rows shold be: 93075\n",
      "actual total rows: 93075\n"
     ]
    }
   ],
   "source": [
    "# check the date range of data_select\n",
    "print('start date:', data_select['datetime'].min())\n",
    "print('end date:', data_select['datetime'].max())\n",
    "\n",
    "days = data_select['datetime'].unique()\n",
    "print('total days:', len(days))\n",
    "\n",
    "homes = data_select['homeid'].unique()\n",
    "print('total homes:', len(homes))\n",
    "\n",
    "total_rows = len(days) * len(homes)\n",
    "\n",
    "print('total rows shold be:', total_rows)\n",
    "print('actual total rows:', len(data_select))"
   ]
  },
  {
   "cell_type": "code",
   "execution_count": null,
   "metadata": {},
   "outputs": [],
   "source": [
    "data_select.to_csv('../Lin_EP_test/daily_energy_demand_imputation.csv', index=False)"
   ]
  },
  {
   "cell_type": "code",
   "execution_count": null,
   "metadata": {},
   "outputs": [
    {
     "data": {
      "text/plain": [
       "<Axes: title={'center': 'Average hourly gas and electric each month'}, xlabel='month'>"
      ]
     },
     "execution_count": 1892,
     "metadata": {},
     "output_type": "execute_result"
    },
    {
     "data": {
      "image/png": "[encoded data removed]",
      "text/plain": [
       "<Figure size 640x480 with 2 Axes>"
      ]
     },
     "metadata": {},
     "output_type": "display_data"
    }
   ],
   "source": [
    "# now plot average montly gas_pulse and electric_combined for all households\n",
    "# put the gas_pulse on the left y-axis and the electric_combined on the right y-axis\n",
    "month = data_select.copy()\n",
    "month['month'] = month['datetime'].dt.month\n",
    "grouped = month.groupby(by='month')[['mean_rounded_gas_pulse','mean_rounded_electric_combined']].mean()\n",
    "grouped.plot(secondary_y='mean_rounded_electric_combined', title='Average hourly gas and electric each month')"
   ]
  },
  {
   "cell_type": "code",
   "execution_count": null,
   "metadata": {},
   "outputs": [
    {
     "data": {
      "text/plain": [
       "<Axes: title={'center': 'Average hourly gas and electric for datetime_range'}, xlabel='date'>"
      ]
     },
     "execution_count": 1893,
     "metadata": {},
     "output_type": "execute_result"
    },
    {
     "data": {
      "image/png": "[encoded data removed]",
      "text/plain": [
       "<Figure size 640x480 with 2 Axes>"
      ]
     },
     "metadata": {},
     "output_type": "display_data"
    }
   ],
   "source": [
    "# now plot average daily gas_pulse and electric_combined for all households, put the gas_pulse on the left y-axis and the electric_combined on the right y-axis\n",
    "datetime_range = data_select.copy()\n",
    "datetime_range['date'] = datetime_range['datetime'].dt.date\n",
    "grouped = datetime_range.groupby(by='date')[['mean_rounded_gas_pulse','mean_rounded_electric_combined']].mean()\n",
    "grouped.plot(secondary_y='mean_rounded_electric_combined', title='Average hourly gas and electric for datetime_range')"
   ]
  },
  {
   "cell_type": "code",
   "execution_count": null,
   "metadata": {},
   "outputs": [
    {
     "data": {
      "text/plain": [
       "<Axes: title={'center': 'Average hourly total energy for each season'}, xlabel='season'>"
      ]
     },
     "execution_count": 1894,
     "metadata": {},
     "output_type": "execute_result"
    },
    {
     "data": {
      "image/png": "[encoded data removed]",
      "text/plain": [
       "<Figure size 640x480 with 1 Axes>"
      ]
     },
     "metadata": {},
     "output_type": "display_data"
    }
   ],
   "source": [
    "# now plot average daily gas_pulse and electric_combined for each season for all households\n",
    "season = data_select.copy()\n",
    "season['energy'] = season['mean_rounded_electric_combined'] + season['mean_rounded_gas_pulse']\n",
    "season['season'] = season['datetime'].dt.month % 12 // 3\n",
    "season['season'] = season['season'].map({0:'Winter', 1:'Spring', 2:'Summer', 3:'Fall'})\n",
    "grouped = season.groupby(by='season')['energy'].mean()\n",
    "grouped.plot( title='Average hourly total energy for each season', kind='bar')\n",
    "\n"
   ]
  },
  {
   "cell_type": "code",
   "execution_count": null,
   "metadata": {},
   "outputs": [
    {
     "data": {
      "text/html": [
       "<div>\n",
       "<style scoped>\n",
       "    .dataframe tbody tr th:only-of-type {\n",
       "        vertical-align: middle;\n",
       "    }\n",
       "\n",
       "    .dataframe tbody tr th {\n",
       "        vertical-align: top;\n",
       "    }\n",
       "\n",
       "    .dataframe thead th {\n",
       "        text-align: right;\n",
       "    }\n",
       "</style>\n",
       "<table border=\"1\" class=\"dataframe\">\n",
       "  <thead>\n",
       "    <tr style=\"text-align: right;\">\n",
       "      <th></th>\n",
       "      <th>homeid</th>\n",
       "      <th>datetime</th>\n",
       "      <th>day_of_week</th>\n",
       "      <th>mean_rounded_gas_pulse</th>\n",
       "      <th>mean_rounded_electric_combined</th>\n",
       "      <th>year</th>\n",
       "      <th>month</th>\n",
       "      <th>hometype</th>\n",
       "    </tr>\n",
       "  </thead>\n",
       "  <tbody>\n",
       "    <tr>\n",
       "      <th>31</th>\n",
       "      <td>100</td>\n",
       "      <td>2018-01-01</td>\n",
       "      <td>0</td>\n",
       "      <td>2098.166667</td>\n",
       "      <td>456.0</td>\n",
       "      <td>2018</td>\n",
       "      <td>1</td>\n",
       "      <td>0</td>\n",
       "    </tr>\n",
       "    <tr>\n",
       "      <th>32</th>\n",
       "      <td>100</td>\n",
       "      <td>2018-01-02</td>\n",
       "      <td>1</td>\n",
       "      <td>3249.200000</td>\n",
       "      <td>239.0</td>\n",
       "      <td>2018</td>\n",
       "      <td>1</td>\n",
       "      <td>0</td>\n",
       "    </tr>\n",
       "    <tr>\n",
       "      <th>33</th>\n",
       "      <td>100</td>\n",
       "      <td>2018-01-03</td>\n",
       "      <td>2</td>\n",
       "      <td>2925.285714</td>\n",
       "      <td>324.0</td>\n",
       "      <td>2018</td>\n",
       "      <td>1</td>\n",
       "      <td>0</td>\n",
       "    </tr>\n",
       "    <tr>\n",
       "      <th>34</th>\n",
       "      <td>100</td>\n",
       "      <td>2018-01-04</td>\n",
       "      <td>3</td>\n",
       "      <td>3133.000000</td>\n",
       "      <td>201.0</td>\n",
       "      <td>2018</td>\n",
       "      <td>1</td>\n",
       "      <td>0</td>\n",
       "    </tr>\n",
       "    <tr>\n",
       "      <th>35</th>\n",
       "      <td>100</td>\n",
       "      <td>2018-01-05</td>\n",
       "      <td>4</td>\n",
       "      <td>2900.200000</td>\n",
       "      <td>225.0</td>\n",
       "      <td>2018</td>\n",
       "      <td>1</td>\n",
       "      <td>0</td>\n",
       "    </tr>\n",
       "    <tr>\n",
       "      <th>...</th>\n",
       "      <td>...</td>\n",
       "      <td>...</td>\n",
       "      <td>...</td>\n",
       "      <td>...</td>\n",
       "      <td>...</td>\n",
       "      <td>...</td>\n",
       "      <td>...</td>\n",
       "      <td>...</td>\n",
       "    </tr>\n",
       "    <tr>\n",
       "      <th>175945</th>\n",
       "      <td>99</td>\n",
       "      <td>2017-12-27</td>\n",
       "      <td>2</td>\n",
       "      <td>1758.000000</td>\n",
       "      <td>1316.0</td>\n",
       "      <td>2017</td>\n",
       "      <td>12</td>\n",
       "      <td>1</td>\n",
       "    </tr>\n",
       "    <tr>\n",
       "      <th>175946</th>\n",
       "      <td>99</td>\n",
       "      <td>2017-12-28</td>\n",
       "      <td>3</td>\n",
       "      <td>3188.285714</td>\n",
       "      <td>494.0</td>\n",
       "      <td>2017</td>\n",
       "      <td>12</td>\n",
       "      <td>1</td>\n",
       "    </tr>\n",
       "    <tr>\n",
       "      <th>175947</th>\n",
       "      <td>99</td>\n",
       "      <td>2017-12-29</td>\n",
       "      <td>4</td>\n",
       "      <td>5374.000000</td>\n",
       "      <td>855.0</td>\n",
       "      <td>2017</td>\n",
       "      <td>12</td>\n",
       "      <td>1</td>\n",
       "    </tr>\n",
       "    <tr>\n",
       "      <th>175948</th>\n",
       "      <td>99</td>\n",
       "      <td>2017-12-30</td>\n",
       "      <td>5</td>\n",
       "      <td>2125.000000</td>\n",
       "      <td>614.0</td>\n",
       "      <td>2017</td>\n",
       "      <td>12</td>\n",
       "      <td>1</td>\n",
       "    </tr>\n",
       "    <tr>\n",
       "      <th>175949</th>\n",
       "      <td>99</td>\n",
       "      <td>2017-12-31</td>\n",
       "      <td>6</td>\n",
       "      <td>4703.000000</td>\n",
       "      <td>514.0</td>\n",
       "      <td>2017</td>\n",
       "      <td>12</td>\n",
       "      <td>1</td>\n",
       "    </tr>\n",
       "  </tbody>\n",
       "</table>\n",
       "<p>93075 rows × 8 columns</p>\n",
       "</div>"
      ],
      "text/plain": [
       "        homeid   datetime  day_of_week  mean_rounded_gas_pulse  \\\n",
       "31         100 2018-01-01            0             2098.166667   \n",
       "32         100 2018-01-02            1             3249.200000   \n",
       "33         100 2018-01-03            2             2925.285714   \n",
       "34         100 2018-01-04            3             3133.000000   \n",
       "35         100 2018-01-05            4             2900.200000   \n",
       "...        ...        ...          ...                     ...   \n",
       "175945      99 2017-12-27            2             1758.000000   \n",
       "175946      99 2017-12-28            3             3188.285714   \n",
       "175947      99 2017-12-29            4             5374.000000   \n",
       "175948      99 2017-12-30            5             2125.000000   \n",
       "175949      99 2017-12-31            6             4703.000000   \n",
       "\n",
       "        mean_rounded_electric_combined  year  month  hometype  \n",
       "31                               456.0  2018      1         0  \n",
       "32                               239.0  2018      1         0  \n",
       "33                               324.0  2018      1         0  \n",
       "34                               201.0  2018      1         0  \n",
       "35                               225.0  2018      1         0  \n",
       "...                                ...   ...    ...       ...  \n",
       "175945                          1316.0  2017     12         1  \n",
       "175946                           494.0  2017     12         1  \n",
       "175947                           855.0  2017     12         1  \n",
       "175948                           614.0  2017     12         1  \n",
       "175949                           514.0  2017     12         1  \n",
       "\n",
       "[93075 rows x 8 columns]"
      ]
     },
     "execution_count": 1895,
     "metadata": {},
     "output_type": "execute_result"
    }
   ],
   "source": [
    "data_select"
   ]
  },
  {
   "cell_type": "code",
   "execution_count": null,
   "metadata": {},
   "outputs": [
    {
     "data": {
      "text/plain": [
       "mean_rounded_gas_pulse            1920.779922\n",
       "mean_rounded_electric_combined     374.216920\n",
       "dtype: float64"
      ]
     },
     "execution_count": 1898,
     "metadata": {},
     "output_type": "execute_result"
    }
   ],
   "source": [
    "# average of gas_pulse and electric_combined for all selected dataset\n",
    "data_select[['mean_rounded_gas_pulse','mean_rounded_electric_combined']].mean()"
   ]
  },
  {
   "cell_type": "code",
   "execution_count": null,
   "metadata": {},
   "outputs": [
    {
     "data": {
      "text/plain": [
       "mean_rounded_gas_pulse            1900.806082\n",
       "mean_rounded_electric_combined     372.756754\n",
       "dtype: float64"
      ]
     },
     "execution_count": 1897,
     "metadata": {},
     "output_type": "execute_result"
    }
   ],
   "source": [
    "original_data[['mean_rounded_gas_pulse','mean_rounded_electric_combined']].mean()"
   ]
  },
  {
   "cell_type": "markdown",
   "metadata": {},
   "source": [
    "# Conclusion\n",
    "\n",
    "- seleted dataset (with imputed missing data)\n",
    "\n",
    "\n",
    "Gas: 1920 watt hour\n",
    "\n",
    "Electricity: 374.2 watt hour\n",
    "\n",
    "\n",
    "\n",
    "- original: \n",
    "\n",
    "Gas: 1900 watt hour\n",
    "\n",
    "Electricity: 372.75 watt hour\n",
    "\n",
    "\n",
    "- benchmark: \n",
    "\n",
    "Gas: 1626 watt hour\n",
    "\n",
    "Electricity: 375 watt hour\n",
    "\n",
    "- conclusion\n",
    "\n",
    "that seleted dataset (with imputed data), which contain average gas use and electricity use of 255 homes from 2017-07-01 to 2018-06-30 (total 12 months) were close to both original dataset and benchmark. so we can use this full one year full dataset to do furthur analysis.\n",
    "\n",
    "\n"
   ]
  }
 ],
 "metadata": {
  "kernelspec": {
   "display_name": "base",
   "language": "python",
   "name": "python3"
  },
  "language_info": {
   "codemirror_mode": {
    "name": "ipython",
    "version": 3
   },
   "file_extension": ".py",
   "mimetype": "text/x-python",
   "name": "python",
   "nbconvert_exporter": "python",
   "pygments_lexer": "ipython3",
   "version": "3.11.7"
  }
 },
 "nbformat": 4,
 "nbformat_minor": 2
}
